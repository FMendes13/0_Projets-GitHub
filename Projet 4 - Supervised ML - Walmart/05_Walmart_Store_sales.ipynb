{
 "cells": [
  {
   "cell_type": "markdown",
   "metadata": {},
   "source": [
    "Project 🚧\n",
    "\n",
    "Walmart's marketing service has asked you to build a machine learning model able to estimate the weekly sales in their stores, with the best precision possible on the predictions made. Such a model would help them understand better how the sales are influenced by economic indicators, and might be used to plan future marketing campaigns.\n",
    "\n",
    "Goals 🎯\n",
    "\n",
    "The project can be divided into three steps:\n",
    "\n",
    "Part 1 : make an EDA and all the necessary preprocessings to prepare data for machine learning \\\n",
    "Part 2 : train a linear regression model (baseline) \\\n",
    "Part 3 : avoid overfitting by training a regularized regression model"
   ]
  },
  {
   "cell_type": "code",
   "execution_count": 127,
   "metadata": {},
   "outputs": [],
   "source": [
    "import pandas as pd\n",
    "import numpy as np\n",
    "\n",
    "from sklearn.model_selection import train_test_split\n",
    "from sklearn.pipeline import Pipeline\n",
    "from sklearn.impute import SimpleImputer\n",
    "from sklearn.preprocessing import  OneHotEncoder, StandardScaler\n",
    "from sklearn.compose import ColumnTransformer\n",
    "from sklearn.linear_model import LinearRegression, Ridge, Lasso\n",
    "from sklearn.model_selection import cross_val_score, GridSearchCV\n",
    "from sklearn.metrics import r2_score\n",
    "\n",
    "import plotly.express as px\n",
    "import plotly.graph_objects as go\n",
    "import plotly.io as pio\n",
    "\n",
    "from plotly.subplots import make_subplots"
   ]
  },
  {
   "cell_type": "code",
   "execution_count": 128,
   "metadata": {},
   "outputs": [
    {
     "data": {
      "text/html": [
       "<div>\n",
       "<style scoped>\n",
       "    .dataframe tbody tr th:only-of-type {\n",
       "        vertical-align: middle;\n",
       "    }\n",
       "\n",
       "    .dataframe tbody tr th {\n",
       "        vertical-align: top;\n",
       "    }\n",
       "\n",
       "    .dataframe thead th {\n",
       "        text-align: right;\n",
       "    }\n",
       "</style>\n",
       "<table border=\"1\" class=\"dataframe\">\n",
       "  <thead>\n",
       "    <tr style=\"text-align: right;\">\n",
       "      <th></th>\n",
       "      <th>Store</th>\n",
       "      <th>Date</th>\n",
       "      <th>Weekly_Sales</th>\n",
       "      <th>Holiday_Flag</th>\n",
       "      <th>Temperature</th>\n",
       "      <th>Fuel_Price</th>\n",
       "      <th>CPI</th>\n",
       "      <th>Unemployment</th>\n",
       "    </tr>\n",
       "  </thead>\n",
       "  <tbody>\n",
       "    <tr>\n",
       "      <th>0</th>\n",
       "      <td>6.0</td>\n",
       "      <td>18-02-2011</td>\n",
       "      <td>1572117.54</td>\n",
       "      <td>NaN</td>\n",
       "      <td>59.61</td>\n",
       "      <td>3.045</td>\n",
       "      <td>214.777523</td>\n",
       "      <td>6.858</td>\n",
       "    </tr>\n",
       "    <tr>\n",
       "      <th>1</th>\n",
       "      <td>13.0</td>\n",
       "      <td>25-03-2011</td>\n",
       "      <td>1807545.43</td>\n",
       "      <td>0.0</td>\n",
       "      <td>42.38</td>\n",
       "      <td>3.435</td>\n",
       "      <td>128.616064</td>\n",
       "      <td>7.470</td>\n",
       "    </tr>\n",
       "    <tr>\n",
       "      <th>2</th>\n",
       "      <td>17.0</td>\n",
       "      <td>27-07-2012</td>\n",
       "      <td>NaN</td>\n",
       "      <td>0.0</td>\n",
       "      <td>NaN</td>\n",
       "      <td>NaN</td>\n",
       "      <td>130.719581</td>\n",
       "      <td>5.936</td>\n",
       "    </tr>\n",
       "    <tr>\n",
       "      <th>3</th>\n",
       "      <td>11.0</td>\n",
       "      <td>NaN</td>\n",
       "      <td>1244390.03</td>\n",
       "      <td>0.0</td>\n",
       "      <td>84.57</td>\n",
       "      <td>NaN</td>\n",
       "      <td>214.556497</td>\n",
       "      <td>7.346</td>\n",
       "    </tr>\n",
       "    <tr>\n",
       "      <th>4</th>\n",
       "      <td>6.0</td>\n",
       "      <td>28-05-2010</td>\n",
       "      <td>1644470.66</td>\n",
       "      <td>0.0</td>\n",
       "      <td>78.89</td>\n",
       "      <td>2.759</td>\n",
       "      <td>212.412888</td>\n",
       "      <td>7.092</td>\n",
       "    </tr>\n",
       "  </tbody>\n",
       "</table>\n",
       "</div>"
      ],
      "text/plain": [
       "   Store        Date  Weekly_Sales  Holiday_Flag  Temperature  Fuel_Price  \\\n",
       "0    6.0  18-02-2011    1572117.54           NaN        59.61       3.045   \n",
       "1   13.0  25-03-2011    1807545.43           0.0        42.38       3.435   \n",
       "2   17.0  27-07-2012           NaN           0.0          NaN         NaN   \n",
       "3   11.0         NaN    1244390.03           0.0        84.57         NaN   \n",
       "4    6.0  28-05-2010    1644470.66           0.0        78.89       2.759   \n",
       "\n",
       "          CPI  Unemployment  \n",
       "0  214.777523         6.858  \n",
       "1  128.616064         7.470  \n",
       "2  130.719581         5.936  \n",
       "3  214.556497         7.346  \n",
       "4  212.412888         7.092  "
      ]
     },
     "execution_count": 128,
     "metadata": {},
     "output_type": "execute_result"
    }
   ],
   "source": [
    "walmart_df=pd.read_csv('Walmart_Store_sales.csv')\n",
    "walmart_df.head()"
   ]
  },
  {
   "cell_type": "code",
   "execution_count": 129,
   "metadata": {},
   "outputs": [
    {
     "name": "stdout",
     "output_type": "stream",
     "text": [
      "Number of rows :150\n",
      "Number of columns :8\n",
      "<class 'pandas.core.frame.DataFrame'>\n",
      "RangeIndex: 150 entries, 0 to 149\n",
      "Data columns (total 8 columns):\n",
      " #   Column        Non-Null Count  Dtype  \n",
      "---  ------        --------------  -----  \n",
      " 0   Store         150 non-null    float64\n",
      " 1   Date          132 non-null    object \n",
      " 2   Weekly_Sales  136 non-null    float64\n",
      " 3   Holiday_Flag  138 non-null    float64\n",
      " 4   Temperature   132 non-null    float64\n",
      " 5   Fuel_Price    136 non-null    float64\n",
      " 6   CPI           138 non-null    float64\n",
      " 7   Unemployment  135 non-null    float64\n",
      "dtypes: float64(7), object(1)\n",
      "memory usage: 9.5+ KB\n"
     ]
    },
    {
     "data": {
      "text/plain": [
       "None"
      ]
     },
     "metadata": {},
     "output_type": "display_data"
    },
    {
     "name": "stdout",
     "output_type": "stream",
     "text": [
      "Basics statistics:\n"
     ]
    },
    {
     "data": {
      "text/html": [
       "<div>\n",
       "<style scoped>\n",
       "    .dataframe tbody tr th:only-of-type {\n",
       "        vertical-align: middle;\n",
       "    }\n",
       "\n",
       "    .dataframe tbody tr th {\n",
       "        vertical-align: top;\n",
       "    }\n",
       "\n",
       "    .dataframe thead th {\n",
       "        text-align: right;\n",
       "    }\n",
       "</style>\n",
       "<table border=\"1\" class=\"dataframe\">\n",
       "  <thead>\n",
       "    <tr style=\"text-align: right;\">\n",
       "      <th></th>\n",
       "      <th>Store</th>\n",
       "      <th>Date</th>\n",
       "      <th>Weekly_Sales</th>\n",
       "      <th>Holiday_Flag</th>\n",
       "      <th>Temperature</th>\n",
       "      <th>Fuel_Price</th>\n",
       "      <th>CPI</th>\n",
       "      <th>Unemployment</th>\n",
       "    </tr>\n",
       "  </thead>\n",
       "  <tbody>\n",
       "    <tr>\n",
       "      <th>count</th>\n",
       "      <td>150.000000</td>\n",
       "      <td>132</td>\n",
       "      <td>1.360000e+02</td>\n",
       "      <td>138.000000</td>\n",
       "      <td>132.000000</td>\n",
       "      <td>136.000000</td>\n",
       "      <td>138.000000</td>\n",
       "      <td>135.000000</td>\n",
       "    </tr>\n",
       "    <tr>\n",
       "      <th>unique</th>\n",
       "      <td>NaN</td>\n",
       "      <td>85</td>\n",
       "      <td>NaN</td>\n",
       "      <td>NaN</td>\n",
       "      <td>NaN</td>\n",
       "      <td>NaN</td>\n",
       "      <td>NaN</td>\n",
       "      <td>NaN</td>\n",
       "    </tr>\n",
       "    <tr>\n",
       "      <th>top</th>\n",
       "      <td>NaN</td>\n",
       "      <td>19-10-2012</td>\n",
       "      <td>NaN</td>\n",
       "      <td>NaN</td>\n",
       "      <td>NaN</td>\n",
       "      <td>NaN</td>\n",
       "      <td>NaN</td>\n",
       "      <td>NaN</td>\n",
       "    </tr>\n",
       "    <tr>\n",
       "      <th>freq</th>\n",
       "      <td>NaN</td>\n",
       "      <td>4</td>\n",
       "      <td>NaN</td>\n",
       "      <td>NaN</td>\n",
       "      <td>NaN</td>\n",
       "      <td>NaN</td>\n",
       "      <td>NaN</td>\n",
       "      <td>NaN</td>\n",
       "    </tr>\n",
       "    <tr>\n",
       "      <th>mean</th>\n",
       "      <td>9.866667</td>\n",
       "      <td>NaN</td>\n",
       "      <td>1.249536e+06</td>\n",
       "      <td>0.079710</td>\n",
       "      <td>61.398106</td>\n",
       "      <td>3.320853</td>\n",
       "      <td>179.898509</td>\n",
       "      <td>7.598430</td>\n",
       "    </tr>\n",
       "    <tr>\n",
       "      <th>std</th>\n",
       "      <td>6.231191</td>\n",
       "      <td>NaN</td>\n",
       "      <td>6.474630e+05</td>\n",
       "      <td>0.271831</td>\n",
       "      <td>18.378901</td>\n",
       "      <td>0.478149</td>\n",
       "      <td>40.274956</td>\n",
       "      <td>1.577173</td>\n",
       "    </tr>\n",
       "    <tr>\n",
       "      <th>min</th>\n",
       "      <td>1.000000</td>\n",
       "      <td>NaN</td>\n",
       "      <td>2.689290e+05</td>\n",
       "      <td>0.000000</td>\n",
       "      <td>18.790000</td>\n",
       "      <td>2.514000</td>\n",
       "      <td>126.111903</td>\n",
       "      <td>5.143000</td>\n",
       "    </tr>\n",
       "    <tr>\n",
       "      <th>25%</th>\n",
       "      <td>4.000000</td>\n",
       "      <td>NaN</td>\n",
       "      <td>6.050757e+05</td>\n",
       "      <td>0.000000</td>\n",
       "      <td>45.587500</td>\n",
       "      <td>2.852250</td>\n",
       "      <td>131.970831</td>\n",
       "      <td>6.597500</td>\n",
       "    </tr>\n",
       "    <tr>\n",
       "      <th>50%</th>\n",
       "      <td>9.000000</td>\n",
       "      <td>NaN</td>\n",
       "      <td>1.261424e+06</td>\n",
       "      <td>0.000000</td>\n",
       "      <td>62.985000</td>\n",
       "      <td>3.451000</td>\n",
       "      <td>197.908893</td>\n",
       "      <td>7.470000</td>\n",
       "    </tr>\n",
       "    <tr>\n",
       "      <th>75%</th>\n",
       "      <td>15.750000</td>\n",
       "      <td>NaN</td>\n",
       "      <td>1.806386e+06</td>\n",
       "      <td>0.000000</td>\n",
       "      <td>76.345000</td>\n",
       "      <td>3.706250</td>\n",
       "      <td>214.934616</td>\n",
       "      <td>8.150000</td>\n",
       "    </tr>\n",
       "    <tr>\n",
       "      <th>max</th>\n",
       "      <td>20.000000</td>\n",
       "      <td>NaN</td>\n",
       "      <td>2.771397e+06</td>\n",
       "      <td>1.000000</td>\n",
       "      <td>91.650000</td>\n",
       "      <td>4.193000</td>\n",
       "      <td>226.968844</td>\n",
       "      <td>14.313000</td>\n",
       "    </tr>\n",
       "  </tbody>\n",
       "</table>\n",
       "</div>"
      ],
      "text/plain": [
       "             Store        Date  Weekly_Sales  Holiday_Flag  Temperature  \\\n",
       "count   150.000000         132  1.360000e+02    138.000000   132.000000   \n",
       "unique         NaN          85           NaN           NaN          NaN   \n",
       "top            NaN  19-10-2012           NaN           NaN          NaN   \n",
       "freq           NaN           4           NaN           NaN          NaN   \n",
       "mean      9.866667         NaN  1.249536e+06      0.079710    61.398106   \n",
       "std       6.231191         NaN  6.474630e+05      0.271831    18.378901   \n",
       "min       1.000000         NaN  2.689290e+05      0.000000    18.790000   \n",
       "25%       4.000000         NaN  6.050757e+05      0.000000    45.587500   \n",
       "50%       9.000000         NaN  1.261424e+06      0.000000    62.985000   \n",
       "75%      15.750000         NaN  1.806386e+06      0.000000    76.345000   \n",
       "max      20.000000         NaN  2.771397e+06      1.000000    91.650000   \n",
       "\n",
       "        Fuel_Price         CPI  Unemployment  \n",
       "count   136.000000  138.000000    135.000000  \n",
       "unique         NaN         NaN           NaN  \n",
       "top            NaN         NaN           NaN  \n",
       "freq           NaN         NaN           NaN  \n",
       "mean      3.320853  179.898509      7.598430  \n",
       "std       0.478149   40.274956      1.577173  \n",
       "min       2.514000  126.111903      5.143000  \n",
       "25%       2.852250  131.970831      6.597500  \n",
       "50%       3.451000  197.908893      7.470000  \n",
       "75%       3.706250  214.934616      8.150000  \n",
       "max       4.193000  226.968844     14.313000  "
      ]
     },
     "metadata": {},
     "output_type": "display_data"
    },
    {
     "name": "stdout",
     "output_type": "stream",
     "text": [
      "Percentage of missing values:\n"
     ]
    },
    {
     "data": {
      "text/plain": [
       "Store            0.000000\n",
       "Date            12.000000\n",
       "Weekly_Sales     9.333333\n",
       "Holiday_Flag     8.000000\n",
       "Temperature     12.000000\n",
       "Fuel_Price       9.333333\n",
       "CPI              8.000000\n",
       "Unemployment    10.000000\n",
       "dtype: float64"
      ]
     },
     "metadata": {},
     "output_type": "display_data"
    },
    {
     "data": {
      "text/plain": [
       "None"
      ]
     },
     "metadata": {},
     "output_type": "display_data"
    }
   ],
   "source": [
    "print('Number of rows :{}'.format(walmart_df.shape[0]))\n",
    "print('Number of columns :{}'.format(walmart_df.shape[1]))\n",
    "\n",
    "display(walmart_df.info())\n",
    "\n",
    "print('Basics statistics:')\n",
    "display(walmart_df.describe(include='all'))\n",
    "\n",
    "print('Percentage of missing values:')\n",
    "display(display(100 * walmart_df.isnull().sum() / walmart_df.shape[0]))"
   ]
  },
  {
   "cell_type": "markdown",
   "metadata": {},
   "source": [
    "Part 1 : EDA and data preprocessing\n",
    "\n",
    "Start your project by exploring your dataset : create figures, compute some statistics etc...\n",
    "\n",
    "Then, you'll have to make some preprocessing on the dataset. You can follow the guidelines from the preprocessing template. There will also be some specific transformations to be planned on this dataset, for example on the Date column that can't be included as it is in the model. Below are some hints that might help you 🤓\n",
    "\n",
    "Preprocessing to be planned with pandas\n",
    "\n",
    "Drop lines where target values are missing :\n",
    "\n",
    "Here, the target variable (Y) corresponds to the column Weekly_Sales. One can see above that there are some missing values in this column.\n",
    "We never use imputation techniques on the target : it might create some bias in the predictions !\n",
    "Then, we will just drop the lines in the dataset for which the value in Weekly_Sales is missing.\n",
    "Create usable features from the Date column : The Date column cannot be included as it is in the model. Either you can drop this column, or you will create new columns that contain the following numeric features :\n",
    "\n",
    "year\n",
    "month\n",
    "day\n",
    "day of week\n",
    "Drop lines containing invalid values or outliers : In this project, will be considered as outliers all the numeric features that don't fall within the range : \n",
    "[\n",
    "X\n",
    "ˉ\n",
    "−\n",
    "3\n",
    "σ\n",
    ",\n",
    "X\n",
    "ˉ\n",
    "+\n",
    "3\n",
    "σ\n",
    "]\n",
    "[ \n",
    "X\n",
    "ˉ\n",
    " −3σ, \n",
    "X\n",
    "ˉ\n",
    " +3σ]. This concerns the columns : Temperature, Fuel_price, CPI and Unemployment\n",
    "\n",
    "Target variable/target (Y) that we will try to predict, to separate from the others : Weekly_Sales\n",
    "\n",
    "------------\n",
    "\n",
    "Preprocessings to be planned with scikit-learn\n",
    "\n",
    "Explanatory variables (X) We need to identify which columns contain categorical variables and which columns contain numerical variables, as they will be treated differently.\n",
    "\n",
    "Categorical variables : Store, Holiday_Flag\n",
    "Numerical variables : Temperature, Fuel_Price, CPI, Unemployment, Year, Month, Day, DayOfWeek\n"
   ]
  },
  {
   "cell_type": "code",
   "execution_count": 130,
   "metadata": {},
   "outputs": [
    {
     "name": "stdout",
     "output_type": "stream",
     "text": [
      "Number of rows :136\n",
      "Number of columns :8\n"
     ]
    },
    {
     "data": {
      "text/html": [
       "<div>\n",
       "<style scoped>\n",
       "    .dataframe tbody tr th:only-of-type {\n",
       "        vertical-align: middle;\n",
       "    }\n",
       "\n",
       "    .dataframe tbody tr th {\n",
       "        vertical-align: top;\n",
       "    }\n",
       "\n",
       "    .dataframe thead th {\n",
       "        text-align: right;\n",
       "    }\n",
       "</style>\n",
       "<table border=\"1\" class=\"dataframe\">\n",
       "  <thead>\n",
       "    <tr style=\"text-align: right;\">\n",
       "      <th></th>\n",
       "      <th>Store</th>\n",
       "      <th>Date</th>\n",
       "      <th>Weekly_Sales</th>\n",
       "      <th>Holiday_Flag</th>\n",
       "      <th>Temperature</th>\n",
       "      <th>Fuel_Price</th>\n",
       "      <th>CPI</th>\n",
       "      <th>Unemployment</th>\n",
       "    </tr>\n",
       "  </thead>\n",
       "  <tbody>\n",
       "    <tr>\n",
       "      <th>0</th>\n",
       "      <td>6.0</td>\n",
       "      <td>18-02-2011</td>\n",
       "      <td>1572117.54</td>\n",
       "      <td>NaN</td>\n",
       "      <td>59.61</td>\n",
       "      <td>3.045</td>\n",
       "      <td>214.777523</td>\n",
       "      <td>6.858</td>\n",
       "    </tr>\n",
       "    <tr>\n",
       "      <th>1</th>\n",
       "      <td>13.0</td>\n",
       "      <td>25-03-2011</td>\n",
       "      <td>1807545.43</td>\n",
       "      <td>0.0</td>\n",
       "      <td>42.38</td>\n",
       "      <td>3.435</td>\n",
       "      <td>128.616064</td>\n",
       "      <td>7.470</td>\n",
       "    </tr>\n",
       "    <tr>\n",
       "      <th>3</th>\n",
       "      <td>11.0</td>\n",
       "      <td>NaN</td>\n",
       "      <td>1244390.03</td>\n",
       "      <td>0.0</td>\n",
       "      <td>84.57</td>\n",
       "      <td>NaN</td>\n",
       "      <td>214.556497</td>\n",
       "      <td>7.346</td>\n",
       "    </tr>\n",
       "    <tr>\n",
       "      <th>4</th>\n",
       "      <td>6.0</td>\n",
       "      <td>28-05-2010</td>\n",
       "      <td>1644470.66</td>\n",
       "      <td>0.0</td>\n",
       "      <td>78.89</td>\n",
       "      <td>2.759</td>\n",
       "      <td>212.412888</td>\n",
       "      <td>7.092</td>\n",
       "    </tr>\n",
       "    <tr>\n",
       "      <th>5</th>\n",
       "      <td>4.0</td>\n",
       "      <td>28-05-2010</td>\n",
       "      <td>1857533.70</td>\n",
       "      <td>0.0</td>\n",
       "      <td>NaN</td>\n",
       "      <td>2.756</td>\n",
       "      <td>126.160226</td>\n",
       "      <td>7.896</td>\n",
       "    </tr>\n",
       "  </tbody>\n",
       "</table>\n",
       "</div>"
      ],
      "text/plain": [
       "   Store        Date  Weekly_Sales  Holiday_Flag  Temperature  Fuel_Price  \\\n",
       "0    6.0  18-02-2011    1572117.54           NaN        59.61       3.045   \n",
       "1   13.0  25-03-2011    1807545.43           0.0        42.38       3.435   \n",
       "3   11.0         NaN    1244390.03           0.0        84.57         NaN   \n",
       "4    6.0  28-05-2010    1644470.66           0.0        78.89       2.759   \n",
       "5    4.0  28-05-2010    1857533.70           0.0          NaN       2.756   \n",
       "\n",
       "          CPI  Unemployment  \n",
       "0  214.777523         6.858  \n",
       "1  128.616064         7.470  \n",
       "3  214.556497         7.346  \n",
       "4  212.412888         7.092  \n",
       "5  126.160226         7.896  "
      ]
     },
     "execution_count": 130,
     "metadata": {},
     "output_type": "execute_result"
    }
   ],
   "source": [
    "#Dropping lines where Y -weekly sales - is missing\n",
    "\n",
    "index_nan=walmart_df.loc[walmart_df['Weekly_Sales'].isnull()].index\n",
    "\n",
    "walmart_df=walmart_df.drop(index=index_nan)\n",
    "\n",
    "print('Number of rows :{}'.format(walmart_df.shape[0]))\n",
    "print('Number of columns :{}'.format(walmart_df.shape[1]))\n",
    "walmart_df.head()\n"
   ]
  },
  {
   "cell_type": "code",
   "execution_count": 131,
   "metadata": {},
   "outputs": [
    {
     "name": "stdout",
     "output_type": "stream",
     "text": [
      "Number of rows :136\n",
      "Number of columns :8\n",
      "Percentage of missing values:\n"
     ]
    },
    {
     "data": {
      "text/plain": [
       "Store            0.000000\n",
       "Date            13.235294\n",
       "Weekly_Sales     0.000000\n",
       "Holiday_Flag     8.088235\n",
       "Temperature     11.029412\n",
       "Fuel_Price       8.823529\n",
       "CPI              8.088235\n",
       "Unemployment    10.294118\n",
       "dtype: float64"
      ]
     },
     "metadata": {},
     "output_type": "display_data"
    },
    {
     "data": {
      "text/plain": [
       "None"
      ]
     },
     "metadata": {},
     "output_type": "display_data"
    }
   ],
   "source": [
    "print('Number of rows :{}'.format(walmart_df.shape[0]))\n",
    "print('Number of columns :{}'.format(walmart_df.shape[1]))\n",
    "\n",
    "print('Percentage of missing values:')\n",
    "display(display(100 * walmart_df.isnull().sum() / walmart_df.shape[0]))"
   ]
  },
  {
   "cell_type": "code",
   "execution_count": 132,
   "metadata": {},
   "outputs": [
    {
     "data": {
      "text/html": [
       "<div>\n",
       "<style scoped>\n",
       "    .dataframe tbody tr th:only-of-type {\n",
       "        vertical-align: middle;\n",
       "    }\n",
       "\n",
       "    .dataframe tbody tr th {\n",
       "        vertical-align: top;\n",
       "    }\n",
       "\n",
       "    .dataframe thead th {\n",
       "        text-align: right;\n",
       "    }\n",
       "</style>\n",
       "<table border=\"1\" class=\"dataframe\">\n",
       "  <thead>\n",
       "    <tr style=\"text-align: right;\">\n",
       "      <th></th>\n",
       "      <th>Store</th>\n",
       "      <th>Weekly_Sales</th>\n",
       "      <th>Holiday_Flag</th>\n",
       "      <th>Temperature</th>\n",
       "      <th>Fuel_Price</th>\n",
       "      <th>CPI</th>\n",
       "      <th>Unemployment</th>\n",
       "      <th>Day</th>\n",
       "      <th>Month</th>\n",
       "      <th>Year</th>\n",
       "    </tr>\n",
       "  </thead>\n",
       "  <tbody>\n",
       "    <tr>\n",
       "      <th>0</th>\n",
       "      <td>6.0</td>\n",
       "      <td>1572117.54</td>\n",
       "      <td>NaN</td>\n",
       "      <td>59.61</td>\n",
       "      <td>3.045</td>\n",
       "      <td>214.777523</td>\n",
       "      <td>6.858</td>\n",
       "      <td>18.0</td>\n",
       "      <td>2.0</td>\n",
       "      <td>2011.0</td>\n",
       "    </tr>\n",
       "    <tr>\n",
       "      <th>1</th>\n",
       "      <td>13.0</td>\n",
       "      <td>1807545.43</td>\n",
       "      <td>0.0</td>\n",
       "      <td>42.38</td>\n",
       "      <td>3.435</td>\n",
       "      <td>128.616064</td>\n",
       "      <td>7.470</td>\n",
       "      <td>25.0</td>\n",
       "      <td>3.0</td>\n",
       "      <td>2011.0</td>\n",
       "    </tr>\n",
       "    <tr>\n",
       "      <th>3</th>\n",
       "      <td>11.0</td>\n",
       "      <td>1244390.03</td>\n",
       "      <td>0.0</td>\n",
       "      <td>84.57</td>\n",
       "      <td>NaN</td>\n",
       "      <td>214.556497</td>\n",
       "      <td>7.346</td>\n",
       "      <td>NaN</td>\n",
       "      <td>NaN</td>\n",
       "      <td>NaN</td>\n",
       "    </tr>\n",
       "    <tr>\n",
       "      <th>4</th>\n",
       "      <td>6.0</td>\n",
       "      <td>1644470.66</td>\n",
       "      <td>0.0</td>\n",
       "      <td>78.89</td>\n",
       "      <td>2.759</td>\n",
       "      <td>212.412888</td>\n",
       "      <td>7.092</td>\n",
       "      <td>28.0</td>\n",
       "      <td>5.0</td>\n",
       "      <td>2010.0</td>\n",
       "    </tr>\n",
       "    <tr>\n",
       "      <th>5</th>\n",
       "      <td>4.0</td>\n",
       "      <td>1857533.70</td>\n",
       "      <td>0.0</td>\n",
       "      <td>NaN</td>\n",
       "      <td>2.756</td>\n",
       "      <td>126.160226</td>\n",
       "      <td>7.896</td>\n",
       "      <td>28.0</td>\n",
       "      <td>5.0</td>\n",
       "      <td>2010.0</td>\n",
       "    </tr>\n",
       "  </tbody>\n",
       "</table>\n",
       "</div>"
      ],
      "text/plain": [
       "   Store  Weekly_Sales  Holiday_Flag  Temperature  Fuel_Price         CPI  \\\n",
       "0    6.0    1572117.54           NaN        59.61       3.045  214.777523   \n",
       "1   13.0    1807545.43           0.0        42.38       3.435  128.616064   \n",
       "3   11.0    1244390.03           0.0        84.57         NaN  214.556497   \n",
       "4    6.0    1644470.66           0.0        78.89       2.759  212.412888   \n",
       "5    4.0    1857533.70           0.0          NaN       2.756  126.160226   \n",
       "\n",
       "   Unemployment   Day  Month    Year  \n",
       "0         6.858  18.0    2.0  2011.0  \n",
       "1         7.470  25.0    3.0  2011.0  \n",
       "3         7.346   NaN    NaN     NaN  \n",
       "4         7.092  28.0    5.0  2010.0  \n",
       "5         7.896  28.0    5.0  2010.0  "
      ]
     },
     "execution_count": 132,
     "metadata": {},
     "output_type": "execute_result"
    }
   ],
   "source": [
    "#Create usable features for the Date column - year, month, day, day of the week\n",
    "\n",
    "walmart_df['Date']=pd.to_datetime(walmart_df['Date'],dayfirst=True)\n",
    "\n",
    "walmart_df['Day'] = walmart_df['Date'].dt.day\n",
    "walmart_df['Month'] = walmart_df['Date'].dt.month\n",
    "walmart_df['Year'] = walmart_df['Date'].dt.year\n",
    "\n",
    "#walmart_df['Dayoftheweek']= walmart_df['Date'].dt.day_name() \n",
    "#display(walmart_df['Dayoftheweek'].value_counts())\n",
    "# -> ne donne que des vendredi donc inutile pour le modèle.\n",
    "\n",
    "walmart_df=walmart_df.drop('Date',axis=1)\n",
    "walmart_df.head()\n",
    "\n"
   ]
  },
  {
   "cell_type": "code",
   "execution_count": 133,
   "metadata": {},
   "outputs": [
    {
     "data": {
      "application/vnd.plotly.v1+json": {
       "config": {
        "plotlyServerURL": "https://plot.ly"
       },
       "data": [
        {
         "name": "Temperature",
         "type": "histogram",
         "x": [
          59.61,
          42.38,
          84.57,
          78.89,
          null,
          69.8,
          39.93,
          30.54,
          60.12,
          82.92,
          52.02,
          36.61,
          64.74,
          60.07,
          68.91,
          76.34,
          21.33,
          50.13,
          38.26,
          77.38,
          50.97,
          39.07,
          50.76,
          44.82,
          51.86,
          43.95,
          45.22,
          null,
          68.4,
          18.79,
          37,
          87.7,
          33.26,
          80.19,
          null,
          81.85,
          60.71,
          50.43,
          null,
          null,
          57.6,
          38.51,
          54.63,
          82.46,
          66.25,
          91.65,
          48.29,
          61.11,
          59.69,
          85.02,
          41.76,
          86.87,
          63.6,
          74.92,
          null,
          36.85,
          null,
          57.62,
          52.77,
          69.17,
          36.44,
          43.43,
          73.67,
          45.71,
          91.04,
          27.4,
          36.78,
          85.22,
          67.97,
          75.17,
          47.42,
          62.25,
          69.37,
          49.96,
          null,
          52.77,
          79.97,
          44.69,
          null,
          75.19,
          39.79,
          76.42,
          78.51,
          68.91,
          null,
          null,
          78.47,
          74.78,
          49.76,
          67.53,
          90.32,
          78.82,
          83.52,
          46.75,
          69.75,
          42.4,
          82.7,
          72.83,
          34.89,
          33.34,
          69.12,
          28.85,
          null,
          39.69,
          32.71,
          69.9,
          null,
          39.3,
          82.99,
          34.32,
          75.32,
          89.42,
          57.84,
          null,
          68.26,
          63.91,
          61.79,
          75.95,
          73.25,
          52.5,
          null,
          82.84,
          83.63,
          84.59,
          88.44,
          74.24,
          50.6,
          62.37,
          75.54,
          78.53,
          73.44,
          72.62,
          20.74,
          57.14,
          86.05,
          55.2
         ],
         "xaxis": "x",
         "yaxis": "y"
        },
        {
         "name": "Fuel_Price",
         "type": "histogram",
         "x": [
          3.045,
          3.435,
          null,
          2.759,
          2.756,
          4.069,
          3.617,
          3.109,
          3.555,
          3.554,
          2.878,
          3.767,
          3.734,
          2.853,
          2.78,
          2.85,
          2.7880000000000003,
          null,
          2.725,
          3.899,
          4.029,
          2.963,
          4.124,
          3.797,
          3.261,
          3.828,
          2.915,
          3.523,
          4.1930000000000005,
          3.103,
          null,
          3.48,
          3.789,
          3.467,
          3.823,
          3.57,
          3.297,
          4.023,
          3.659,
          3.73,
          3.485,
          2.548,
          3.555,
          2.64,
          2.958,
          3.684,
          3.75,
          3.788,
          2.728,
          2.653,
          3.625,
          3.666,
          3.648,
          2.619,
          2.64,
          3.695,
          4.046,
          3.882,
          3.236,
          3.594,
          3.149,
          3.287,
          2.792,
          2.572,
          3.701,
          3.139,
          2.817,
          2.619,
          3.594,
          2.8080000000000003,
          4.021,
          3.3080000000000003,
          null,
          2.7710000000000004,
          3.63,
          3.51,
          3.972,
          2.9760000000000004,
          3.793,
          3.688,
          3.739,
          3.786,
          2.642,
          3.63,
          2.667,
          4.087,
          3.76,
          2.854,
          null,
          null,
          null,
          2.814,
          2.637,
          null,
          3.815,
          2.86,
          3.346,
          2.932,
          null,
          2.548,
          2.906,
          3.179,
          3.722,
          2.514,
          null,
          2.735,
          2.909,
          3.936,
          2.637,
          3.193,
          2.582,
          3.682,
          3.596,
          3.786,
          null,
          3.3080000000000003,
          2.7110000000000003,
          3.606,
          3.84,
          3.529,
          2.8310000000000004,
          3.627,
          3.044,
          3.469,
          3.112,
          3.807,
          3.804,
          null,
          3.285,
          2.705,
          3.594,
          2.78,
          2.778,
          2.841,
          3.638,
          4.17
         ],
         "xaxis": "x2",
         "yaxis": "y2"
        },
        {
         "name": "CPI",
         "type": "histogram",
         "x": [
          214.7775231,
          128.6160645,
          214.55649680000005,
          212.412888,
          126.1602258,
          134.85516130000002,
          213.0236225,
          null,
          224.1320199,
          219.07019680000005,
          132.7633548,
          192.826069,
          221.2118132,
          126.2346,
          211.8942725,
          null,
          131.52790320000005,
          null,
          189.7048215,
          216.5343611,
          138.9117,
          131.863129,
          138.0332,
          131.1083333,
          null,
          192.831317,
          126.5621,
          217.2706543,
          129.04443329999998,
          196.9195056,
          null,
          214.9296249,
          133.9587419,
          219.7414914,
          134.2784667,
          129.0663,
          218.5699621,
          137.9781333,
          198.1267184,
          222.4390153,
          194.3796374,
          211.24216980000003,
          220.275944,
          211.9270006,
          132.5218667,
          215.544618,
          197.4133259,
          130.95922579999998,
          211.6608975,
          214.8965756,
          184.9943679,
          130.7196333,
          129.5183333,
          214.9362793,
          212.8944846,
          189.8424834,
          185.9374378,
          130.6457931,
          126.8794839,
          224.0192873,
          129.8980645,
          127.1917742,
          132.6141935,
          214.4248812,
          129.2015806,
          null,
          126.7934,
          211.5673056,
          223.4257233,
          204.5675459,
          137.5843871,
          218.2205088,
          null,
          215.43728540000004,
          221.4342146,
          223.9170153,
          135.8738387,
          211.0648881,
          131.03754840000002,
          225.2351496,
          213.4725116,
          215.1544822,
          214.6564301,
          null,
          214.7027646,
          129.0623548,
          186.1399808,
          210.3374261,
          214.7492449,
          210.939388,
          126.1266,
          126.1392,
          214.7858259,
          219.355063,
          135.4468,
          126.7934,
          225.3068615,
          132.5983871,
          null,
          214.62141890000004,
          132.2939355,
          204.6432267,
          138.1629,
          210.9451605,
          130.27922579999998,
          215.0614025,
          131.637,
          197.7227385,
          215.0166484,
          182.5983058,
          214.8785562,
          216.0464364,
          198.0950484,
          215.5037878,
          134.94254840000002,
          221.6432852,
          189.5231276,
          129.2015806,
          138.1857097,
          130.82619350000002,
          126.5461613,
          129.1507742,
          126.11458059999998,
          129.1125,
          126.1283548,
          217.0146941,
          197.5886046,
          212.5604113,
          null,
          214.4958382,
          226.9688442,
          182.4424199,
          null,
          126.1119032,
          219.0075249,
          137.9230667
         ],
         "xaxis": "x3",
         "yaxis": "y3"
        },
        {
         "name": "Unemployment",
         "type": "histogram",
         "x": [
          6.858,
          7.47,
          7.346,
          7.0920000000000005,
          7.896,
          7.657999999999999,
          6.961,
          null,
          6.832999999999998,
          6.425,
          9.331,
          8.595,
          7.348,
          6.885,
          7.0920000000000005,
          7.951,
          9.202,
          7.441,
          8.963,
          6.489,
          8.243,
          8.35,
          8.15,
          5.527,
          6.832999999999998,
          6.339,
          6.635,
          6.925,
          13.736,
          8.256,
          8.424,
          null,
          7.771,
          7.567,
          8.975,
          5.9460000000000015,
          6.3,
          8.304,
          6.061,
          6.908,
          8.622,
          8.106,
          7.057,
          6.496,
          8.099,
          7.9620000000000015,
          6.162000000000001,
          5.965,
          8.163,
          null,
          8.549,
          7.17,
          6.877000000000002,
          6.315,
          6.973,
          8.424,
          8.521,
          7.545,
          14.313,
          5.4220000000000015,
          5.143,
          8.744,
          9.342,
          7.3679999999999986,
          13.503,
          9.331,
          7.795,
          7.787000000000001,
          null,
          7.856,
          7.943,
          7.866,
          7.527,
          6.56,
          5.943,
          6.832999999999998,
          7.806,
          8.027999999999999,
          6.235,
          6.664,
          6.961,
          7.931,
          6.442,
          5.936,
          null,
          13.736,
          8.625,
          7.808,
          6.299,
          null,
          9.524,
          7.951,
          7.343,
          7.057,
          8.89,
          7.127000000000002,
          6.664,
          8.099,
          8.992,
          6.299,
          null,
          7.484,
          8.15,
          null,
          6.104,
          7.564,
          null,
          8.09,
          6.384,
          null,
          6.315,
          6.529,
          7.872000000000001,
          7.682,
          7.657999999999999,
          7.197,
          6.8679999999999986,
          6.877000000000002,
          8.535,
          6.104,
          null,
          5.644,
          14.18,
          5.644,
          9.199,
          6.855,
          8.09,
          6.768,
          7.197,
          7.343,
          6.034,
          8.899,
          null,
          null,
          null,
          8.15
         ],
         "xaxis": "x4",
         "yaxis": "y4"
        }
       ],
       "layout": {
        "height": 1000,
        "template": {
         "data": {
          "bar": [
           {
            "error_x": {
             "color": "#2a3f5f"
            },
            "error_y": {
             "color": "#2a3f5f"
            },
            "marker": {
             "line": {
              "color": "#E5ECF6",
              "width": 0.5
             },
             "pattern": {
              "fillmode": "overlay",
              "size": 10,
              "solidity": 0.2
             }
            },
            "type": "bar"
           }
          ],
          "barpolar": [
           {
            "marker": {
             "line": {
              "color": "#E5ECF6",
              "width": 0.5
             },
             "pattern": {
              "fillmode": "overlay",
              "size": 10,
              "solidity": 0.2
             }
            },
            "type": "barpolar"
           }
          ],
          "carpet": [
           {
            "aaxis": {
             "endlinecolor": "#2a3f5f",
             "gridcolor": "white",
             "linecolor": "white",
             "minorgridcolor": "white",
             "startlinecolor": "#2a3f5f"
            },
            "baxis": {
             "endlinecolor": "#2a3f5f",
             "gridcolor": "white",
             "linecolor": "white",
             "minorgridcolor": "white",
             "startlinecolor": "#2a3f5f"
            },
            "type": "carpet"
           }
          ],
          "choropleth": [
           {
            "colorbar": {
             "outlinewidth": 0,
             "ticks": ""
            },
            "type": "choropleth"
           }
          ],
          "contour": [
           {
            "colorbar": {
             "outlinewidth": 0,
             "ticks": ""
            },
            "colorscale": [
             [
              0,
              "#0d0887"
             ],
             [
              0.1111111111111111,
              "#46039f"
             ],
             [
              0.2222222222222222,
              "#7201a8"
             ],
             [
              0.3333333333333333,
              "#9c179e"
             ],
             [
              0.4444444444444444,
              "#bd3786"
             ],
             [
              0.5555555555555556,
              "#d8576b"
             ],
             [
              0.6666666666666666,
              "#ed7953"
             ],
             [
              0.7777777777777778,
              "#fb9f3a"
             ],
             [
              0.8888888888888888,
              "#fdca26"
             ],
             [
              1,
              "#f0f921"
             ]
            ],
            "type": "contour"
           }
          ],
          "contourcarpet": [
           {
            "colorbar": {
             "outlinewidth": 0,
             "ticks": ""
            },
            "type": "contourcarpet"
           }
          ],
          "heatmap": [
           {
            "colorbar": {
             "outlinewidth": 0,
             "ticks": ""
            },
            "colorscale": [
             [
              0,
              "#0d0887"
             ],
             [
              0.1111111111111111,
              "#46039f"
             ],
             [
              0.2222222222222222,
              "#7201a8"
             ],
             [
              0.3333333333333333,
              "#9c179e"
             ],
             [
              0.4444444444444444,
              "#bd3786"
             ],
             [
              0.5555555555555556,
              "#d8576b"
             ],
             [
              0.6666666666666666,
              "#ed7953"
             ],
             [
              0.7777777777777778,
              "#fb9f3a"
             ],
             [
              0.8888888888888888,
              "#fdca26"
             ],
             [
              1,
              "#f0f921"
             ]
            ],
            "type": "heatmap"
           }
          ],
          "heatmapgl": [
           {
            "colorbar": {
             "outlinewidth": 0,
             "ticks": ""
            },
            "colorscale": [
             [
              0,
              "#0d0887"
             ],
             [
              0.1111111111111111,
              "#46039f"
             ],
             [
              0.2222222222222222,
              "#7201a8"
             ],
             [
              0.3333333333333333,
              "#9c179e"
             ],
             [
              0.4444444444444444,
              "#bd3786"
             ],
             [
              0.5555555555555556,
              "#d8576b"
             ],
             [
              0.6666666666666666,
              "#ed7953"
             ],
             [
              0.7777777777777778,
              "#fb9f3a"
             ],
             [
              0.8888888888888888,
              "#fdca26"
             ],
             [
              1,
              "#f0f921"
             ]
            ],
            "type": "heatmapgl"
           }
          ],
          "histogram": [
           {
            "marker": {
             "pattern": {
              "fillmode": "overlay",
              "size": 10,
              "solidity": 0.2
             }
            },
            "type": "histogram"
           }
          ],
          "histogram2d": [
           {
            "colorbar": {
             "outlinewidth": 0,
             "ticks": ""
            },
            "colorscale": [
             [
              0,
              "#0d0887"
             ],
             [
              0.1111111111111111,
              "#46039f"
             ],
             [
              0.2222222222222222,
              "#7201a8"
             ],
             [
              0.3333333333333333,
              "#9c179e"
             ],
             [
              0.4444444444444444,
              "#bd3786"
             ],
             [
              0.5555555555555556,
              "#d8576b"
             ],
             [
              0.6666666666666666,
              "#ed7953"
             ],
             [
              0.7777777777777778,
              "#fb9f3a"
             ],
             [
              0.8888888888888888,
              "#fdca26"
             ],
             [
              1,
              "#f0f921"
             ]
            ],
            "type": "histogram2d"
           }
          ],
          "histogram2dcontour": [
           {
            "colorbar": {
             "outlinewidth": 0,
             "ticks": ""
            },
            "colorscale": [
             [
              0,
              "#0d0887"
             ],
             [
              0.1111111111111111,
              "#46039f"
             ],
             [
              0.2222222222222222,
              "#7201a8"
             ],
             [
              0.3333333333333333,
              "#9c179e"
             ],
             [
              0.4444444444444444,
              "#bd3786"
             ],
             [
              0.5555555555555556,
              "#d8576b"
             ],
             [
              0.6666666666666666,
              "#ed7953"
             ],
             [
              0.7777777777777778,
              "#fb9f3a"
             ],
             [
              0.8888888888888888,
              "#fdca26"
             ],
             [
              1,
              "#f0f921"
             ]
            ],
            "type": "histogram2dcontour"
           }
          ],
          "mesh3d": [
           {
            "colorbar": {
             "outlinewidth": 0,
             "ticks": ""
            },
            "type": "mesh3d"
           }
          ],
          "parcoords": [
           {
            "line": {
             "colorbar": {
              "outlinewidth": 0,
              "ticks": ""
             }
            },
            "type": "parcoords"
           }
          ],
          "pie": [
           {
            "automargin": true,
            "type": "pie"
           }
          ],
          "scatter": [
           {
            "fillpattern": {
             "fillmode": "overlay",
             "size": 10,
             "solidity": 0.2
            },
            "type": "scatter"
           }
          ],
          "scatter3d": [
           {
            "line": {
             "colorbar": {
              "outlinewidth": 0,
              "ticks": ""
             }
            },
            "marker": {
             "colorbar": {
              "outlinewidth": 0,
              "ticks": ""
             }
            },
            "type": "scatter3d"
           }
          ],
          "scattercarpet": [
           {
            "marker": {
             "colorbar": {
              "outlinewidth": 0,
              "ticks": ""
             }
            },
            "type": "scattercarpet"
           }
          ],
          "scattergeo": [
           {
            "marker": {
             "colorbar": {
              "outlinewidth": 0,
              "ticks": ""
             }
            },
            "type": "scattergeo"
           }
          ],
          "scattergl": [
           {
            "marker": {
             "colorbar": {
              "outlinewidth": 0,
              "ticks": ""
             }
            },
            "type": "scattergl"
           }
          ],
          "scattermapbox": [
           {
            "marker": {
             "colorbar": {
              "outlinewidth": 0,
              "ticks": ""
             }
            },
            "type": "scattermapbox"
           }
          ],
          "scatterpolar": [
           {
            "marker": {
             "colorbar": {
              "outlinewidth": 0,
              "ticks": ""
             }
            },
            "type": "scatterpolar"
           }
          ],
          "scatterpolargl": [
           {
            "marker": {
             "colorbar": {
              "outlinewidth": 0,
              "ticks": ""
             }
            },
            "type": "scatterpolargl"
           }
          ],
          "scatterternary": [
           {
            "marker": {
             "colorbar": {
              "outlinewidth": 0,
              "ticks": ""
             }
            },
            "type": "scatterternary"
           }
          ],
          "surface": [
           {
            "colorbar": {
             "outlinewidth": 0,
             "ticks": ""
            },
            "colorscale": [
             [
              0,
              "#0d0887"
             ],
             [
              0.1111111111111111,
              "#46039f"
             ],
             [
              0.2222222222222222,
              "#7201a8"
             ],
             [
              0.3333333333333333,
              "#9c179e"
             ],
             [
              0.4444444444444444,
              "#bd3786"
             ],
             [
              0.5555555555555556,
              "#d8576b"
             ],
             [
              0.6666666666666666,
              "#ed7953"
             ],
             [
              0.7777777777777778,
              "#fb9f3a"
             ],
             [
              0.8888888888888888,
              "#fdca26"
             ],
             [
              1,
              "#f0f921"
             ]
            ],
            "type": "surface"
           }
          ],
          "table": [
           {
            "cells": {
             "fill": {
              "color": "#EBF0F8"
             },
             "line": {
              "color": "white"
             }
            },
            "header": {
             "fill": {
              "color": "#C8D4E3"
             },
             "line": {
              "color": "white"
             }
            },
            "type": "table"
           }
          ]
         },
         "layout": {
          "annotationdefaults": {
           "arrowcolor": "#2a3f5f",
           "arrowhead": 0,
           "arrowwidth": 1
          },
          "autotypenumbers": "strict",
          "coloraxis": {
           "colorbar": {
            "outlinewidth": 0,
            "ticks": ""
           }
          },
          "colorscale": {
           "diverging": [
            [
             0,
             "#8e0152"
            ],
            [
             0.1,
             "#c51b7d"
            ],
            [
             0.2,
             "#de77ae"
            ],
            [
             0.3,
             "#f1b6da"
            ],
            [
             0.4,
             "#fde0ef"
            ],
            [
             0.5,
             "#f7f7f7"
            ],
            [
             0.6,
             "#e6f5d0"
            ],
            [
             0.7,
             "#b8e186"
            ],
            [
             0.8,
             "#7fbc41"
            ],
            [
             0.9,
             "#4d9221"
            ],
            [
             1,
             "#276419"
            ]
           ],
           "sequential": [
            [
             0,
             "#0d0887"
            ],
            [
             0.1111111111111111,
             "#46039f"
            ],
            [
             0.2222222222222222,
             "#7201a8"
            ],
            [
             0.3333333333333333,
             "#9c179e"
            ],
            [
             0.4444444444444444,
             "#bd3786"
            ],
            [
             0.5555555555555556,
             "#d8576b"
            ],
            [
             0.6666666666666666,
             "#ed7953"
            ],
            [
             0.7777777777777778,
             "#fb9f3a"
            ],
            [
             0.8888888888888888,
             "#fdca26"
            ],
            [
             1,
             "#f0f921"
            ]
           ],
           "sequentialminus": [
            [
             0,
             "#0d0887"
            ],
            [
             0.1111111111111111,
             "#46039f"
            ],
            [
             0.2222222222222222,
             "#7201a8"
            ],
            [
             0.3333333333333333,
             "#9c179e"
            ],
            [
             0.4444444444444444,
             "#bd3786"
            ],
            [
             0.5555555555555556,
             "#d8576b"
            ],
            [
             0.6666666666666666,
             "#ed7953"
            ],
            [
             0.7777777777777778,
             "#fb9f3a"
            ],
            [
             0.8888888888888888,
             "#fdca26"
            ],
            [
             1,
             "#f0f921"
            ]
           ]
          },
          "colorway": [
           "#636efa",
           "#EF553B",
           "#00cc96",
           "#ab63fa",
           "#FFA15A",
           "#19d3f3",
           "#FF6692",
           "#B6E880",
           "#FF97FF",
           "#FECB52"
          ],
          "font": {
           "color": "#2a3f5f"
          },
          "geo": {
           "bgcolor": "white",
           "lakecolor": "white",
           "landcolor": "#E5ECF6",
           "showlakes": true,
           "showland": true,
           "subunitcolor": "white"
          },
          "hoverlabel": {
           "align": "left"
          },
          "hovermode": "closest",
          "mapbox": {
           "style": "light"
          },
          "paper_bgcolor": "white",
          "plot_bgcolor": "#E5ECF6",
          "polar": {
           "angularaxis": {
            "gridcolor": "white",
            "linecolor": "white",
            "ticks": ""
           },
           "bgcolor": "#E5ECF6",
           "radialaxis": {
            "gridcolor": "white",
            "linecolor": "white",
            "ticks": ""
           }
          },
          "scene": {
           "xaxis": {
            "backgroundcolor": "#E5ECF6",
            "gridcolor": "white",
            "gridwidth": 2,
            "linecolor": "white",
            "showbackground": true,
            "ticks": "",
            "zerolinecolor": "white"
           },
           "yaxis": {
            "backgroundcolor": "#E5ECF6",
            "gridcolor": "white",
            "gridwidth": 2,
            "linecolor": "white",
            "showbackground": true,
            "ticks": "",
            "zerolinecolor": "white"
           },
           "zaxis": {
            "backgroundcolor": "#E5ECF6",
            "gridcolor": "white",
            "gridwidth": 2,
            "linecolor": "white",
            "showbackground": true,
            "ticks": "",
            "zerolinecolor": "white"
           }
          },
          "shapedefaults": {
           "line": {
            "color": "#2a3f5f"
           }
          },
          "ternary": {
           "aaxis": {
            "gridcolor": "white",
            "linecolor": "white",
            "ticks": ""
           },
           "baxis": {
            "gridcolor": "white",
            "linecolor": "white",
            "ticks": ""
           },
           "bgcolor": "#E5ECF6",
           "caxis": {
            "gridcolor": "white",
            "linecolor": "white",
            "ticks": ""
           }
          },
          "title": {
           "x": 0.05
          },
          "xaxis": {
           "automargin": true,
           "gridcolor": "white",
           "linecolor": "white",
           "ticks": "",
           "title": {
            "standoff": 15
           },
           "zerolinecolor": "white",
           "zerolinewidth": 2
          },
          "yaxis": {
           "automargin": true,
           "gridcolor": "white",
           "linecolor": "white",
           "ticks": "",
           "title": {
            "standoff": 15
           },
           "zerolinecolor": "white",
           "zerolinewidth": 2
          }
         }
        },
        "width": 700,
        "xaxis": {
         "anchor": "y",
         "domain": [
          0,
          1
         ]
        },
        "xaxis2": {
         "anchor": "y2",
         "domain": [
          0,
          1
         ]
        },
        "xaxis3": {
         "anchor": "y3",
         "domain": [
          0,
          1
         ]
        },
        "xaxis4": {
         "anchor": "y4",
         "domain": [
          0,
          1
         ]
        },
        "yaxis": {
         "anchor": "x",
         "domain": [
          0.80625,
          1
         ]
        },
        "yaxis2": {
         "anchor": "x2",
         "domain": [
          0.5375,
          0.73125
         ]
        },
        "yaxis3": {
         "anchor": "x3",
         "domain": [
          0.26875,
          0.4625
         ]
        },
        "yaxis4": {
         "anchor": "x4",
         "domain": [
          0,
          0.19375
         ]
        }
       }
      }
     },
     "metadata": {},
     "output_type": "display_data"
    }
   ],
   "source": [
    "fig = make_subplots(rows=4,cols=1)\n",
    "fig.add_trace(\n",
    "    go.Histogram(\n",
    "        x = walmart_df['Temperature'],\n",
    "        name = 'Temperature'),\n",
    "    row=1,\n",
    "    col=1)\n",
    "\n",
    "fig.add_trace(\n",
    "    go.Histogram(\n",
    "        x = walmart_df['Fuel_Price'],\n",
    "        name = 'Fuel_Price'),\n",
    "    row=2,\n",
    "    col=1)\n",
    "\n",
    "fig.add_trace(\n",
    "    go.Histogram(\n",
    "        x = walmart_df['CPI'],\n",
    "        name = 'CPI'),\n",
    "    row=3,\n",
    "    col=1)\n",
    "\n",
    "fig.add_trace(\n",
    "    go.Histogram(\n",
    "        x = walmart_df['Unemployment'],\n",
    "        name = 'Unemployment'),\n",
    "    row=4,\n",
    "    col=1)\n",
    "\n",
    "fig.update_layout(width=700,height=1000)\n",
    "fig.show()"
   ]
  },
  {
   "cell_type": "code",
   "execution_count": 134,
   "metadata": {},
   "outputs": [
    {
     "name": "stdout",
     "output_type": "stream",
     "text": [
      "Identifying outliers in Temperature...\n",
      "...Done\n",
      "Number of rows :121\n",
      "Identifying outliers in Fuel_Price...\n",
      "...Done\n",
      "Number of rows :109\n",
      "Identifying outliers in CPI...\n",
      "...Done\n",
      "Number of rows :102\n",
      "Identifying outliers in Unemployment...\n",
      "...Done\n",
      "Number of rows :90\n",
      "Outliers identified:\n"
     ]
    },
    {
     "data": {
      "text/plain": [
       "46"
      ]
     },
     "metadata": {},
     "output_type": "display_data"
    },
    {
     "name": "stdout",
     "output_type": "stream",
     "text": [
      "{'Store': 4.0, 'Weekly_Sales': 1857533.7, 'Holiday_Flag': 0.0, 'Temperature': nan, 'Fuel_Price': 2.756, 'CPI': 126.1602258, 'Unemployment': 7.896, 'Day': 28.0, 'Month': 5.0, 'Year': 2010.0}\n",
      "{'Store': 6.0, 'Weekly_Sales': 1420405.41, 'Holiday_Flag': 0.0, 'Temperature': nan, 'Fuel_Price': 3.523, 'CPI': 217.2706543, 'Unemployment': 6.925, 'Day': 26.0, 'Month': 8.0, 'Year': 2011.0}\n",
      "{'Store': 18.0, 'Weekly_Sales': 988157.72, 'Holiday_Flag': 0.0, 'Temperature': nan, 'Fuel_Price': 3.823, 'CPI': 134.2784667, 'Unemployment': 8.975, 'Day': 15.0, 'Month': 4.0, 'Year': 2011.0}\n",
      "{'Store': 16.0, 'Weekly_Sales': 526525.16, 'Holiday_Flag': 0.0, 'Temperature': nan, 'Fuel_Price': 3.659, 'CPI': 198.1267184, 'Unemployment': 6.061, 'Day': 14.0, 'Month': 9.0, 'Year': 2012.0}\n",
      "{'Store': 1.0, 'Weekly_Sales': 1661767.33, 'Holiday_Flag': 1.0, 'Temperature': nan, 'Fuel_Price': 3.73, 'CPI': 222.4390153, 'Unemployment': 6.908, 'Day': nan, 'Month': nan, 'Year': nan}\n",
      "{'Store': 6.0, 'Weekly_Sales': 1532308.78, 'Holiday_Flag': 0.0, 'Temperature': nan, 'Fuel_Price': 2.64, 'CPI': 212.8944846, 'Unemployment': 6.973, 'Day': 30.0, 'Month': 7.0, 'Year': 2010.0}\n",
      "{'Store': 14.0, 'Weekly_Sales': 2095599.93, 'Holiday_Flag': 0.0, 'Temperature': nan, 'Fuel_Price': 4.046, 'CPI': 185.9374378, 'Unemployment': 8.521, 'Day': 6.0, 'Month': 5.0, 'Year': 2011.0}\n",
      "{'Store': 5.0, 'Weekly_Sales': 359206.21, 'Holiday_Flag': 0.0, 'Temperature': nan, 'Fuel_Price': 3.63, 'CPI': 221.4342146, 'Unemployment': 5.943, 'Day': nan, 'Month': nan, 'Year': nan}\n",
      "{'Store': 17.0, 'Weekly_Sales': 986922.62, 'Holiday_Flag': 0.0, 'Temperature': nan, 'Fuel_Price': 3.793, 'CPI': 131.03754840000002, 'Unemployment': 6.235, 'Day': nan, 'Month': nan, 'Year': nan}\n",
      "{'Store': 3.0, 'Weekly_Sales': 384200.69, 'Holiday_Flag': 0.0, 'Temperature': nan, 'Fuel_Price': 2.667, 'CPI': 214.7027646, 'Unemployment': nan, 'Day': nan, 'Month': nan, 'Year': nan}\n",
      "{'Store': 12.0, 'Weekly_Sales': 964332.51, 'Holiday_Flag': 0.0, 'Temperature': nan, 'Fuel_Price': 4.087, 'CPI': 129.0623548, 'Unemployment': 13.736, 'Day': 27.0, 'Month': 5.0, 'Year': 2011.0}\n",
      "{'Store': 19.0, 'Weekly_Sales': 1468350.36, 'Holiday_Flag': 0.0, 'Temperature': nan, 'Fuel_Price': 3.722, 'CPI': 138.1629, 'Unemployment': 8.15, 'Day': 22.0, 'Month': 6.0, 'Year': 2012.0}\n",
      "{'Store': 15.0, 'Weekly_Sales': 660838.75, 'Holiday_Flag': 0.0, 'Temperature': nan, 'Fuel_Price': 2.909, 'CPI': 131.637, 'Unemployment': nan, 'Day': 19.0, 'Month': 2.0, 'Year': 2010.0}\n",
      "{'Store': 1.0, 'Weekly_Sales': 1466046.67, 'Holiday_Flag': 0.0, 'Temperature': nan, 'Fuel_Price': 3.786, 'CPI': 215.5037878, 'Unemployment': 7.682, 'Day': 27.0, 'Month': 5.0, 'Year': 2011.0}\n",
      "{'Store': 17.0, 'Weekly_Sales': 855459.96, 'Holiday_Flag': 0.0, 'Temperature': nan, 'Fuel_Price': 2.8310000000000004, 'CPI': 126.5461613, 'Unemployment': nan, 'Day': 12.0, 'Month': 11.0, 'Year': 2010.0}\n",
      "{'Store': 11.0, 'Weekly_Sales': 1244390.03, 'Holiday_Flag': 0.0, 'Temperature': 84.57, 'Fuel_Price': nan, 'CPI': 214.55649680000005, 'Unemployment': 7.346, 'Day': nan, 'Month': nan, 'Year': nan}\n",
      "{'Store': 2.0, 'Weekly_Sales': 2432736.52, 'Holiday_Flag': 0.0, 'Temperature': 50.13, 'Fuel_Price': nan, 'CPI': nan, 'Unemployment': 7.441, 'Day': 16.0, 'Month': 12.0, 'Year': 2011.0}\n",
      "{'Store': 14.0, 'Weekly_Sales': 2077256.24, 'Holiday_Flag': 1.0, 'Temperature': 37.0, 'Fuel_Price': nan, 'CPI': nan, 'Unemployment': 8.424, 'Day': 10.0, 'Month': 2.0, 'Year': 2012.0}\n",
      "{'Store': 20.0, 'Weekly_Sales': 1789687.65, 'Holiday_Flag': 0.0, 'Temperature': 69.37, 'Fuel_Price': nan, 'CPI': nan, 'Unemployment': 7.527, 'Day': 24.0, 'Month': 9.0, 'Year': 2010.0}\n",
      "{'Store': 8.0, 'Weekly_Sales': 860336.16, 'Holiday_Flag': 0.0, 'Temperature': 49.76, 'Fuel_Price': nan, 'CPI': 214.7492449, 'Unemployment': 6.299, 'Day': 12.0, 'Month': 3.0, 'Year': 2010.0}\n",
      "{'Store': 5.0, 'Weekly_Sales': 298697.84, 'Holiday_Flag': 0.0, 'Temperature': 67.53, 'Fuel_Price': nan, 'CPI': 210.939388, 'Unemployment': nan, 'Day': 30.0, 'Month': 4.0, 'Year': 2010.0}\n",
      "{'Store': 10.0, 'Weekly_Sales': 1768172.31, 'Holiday_Flag': 0.0, 'Temperature': 90.32, 'Fuel_Price': nan, 'CPI': 126.1266, 'Unemployment': 9.524, 'Day': 25.0, 'Month': 6.0, 'Year': 2010.0}\n",
      "{'Store': 2.0, 'Weekly_Sales': 1799520.14, 'Holiday_Flag': 0.0, 'Temperature': 46.75, 'Fuel_Price': nan, 'CPI': 219.355063, 'Unemployment': 7.057, 'Day': 6.0, 'Month': 1.0, 'Year': 2012.0}\n",
      "{'Store': 14.0, 'Weekly_Sales': 2095591.63, 'Holiday_Flag': 0.0, 'Temperature': 34.89, 'Fuel_Price': nan, 'CPI': nan, 'Unemployment': 8.992, 'Day': 26.0, 'Month': 2.0, 'Year': 2010.0}\n",
      "{'Store': 13.0, 'Weekly_Sales': 1811606.21, 'Holiday_Flag': 0.0, 'Temperature': 32.71, 'Fuel_Price': nan, 'CPI': 130.27922579999998, 'Unemployment': 6.104, 'Day': 20.0, 'Month': 1.0, 'Year': 2012.0}\n",
      "{'Store': 19.0, 'Weekly_Sales': 1467473.63, 'Holiday_Flag': 0.0, 'Temperature': 68.26, 'Fuel_Price': nan, 'CPI': 134.94254840000002, 'Unemployment': 7.657999999999999, 'Day': 10.0, 'Month': 6.0, 'Year': 2011.0}\n",
      "{'Store': 5.0, 'Weekly_Sales': 301827.36, 'Holiday_Flag': 0.0, 'Temperature': 62.37, 'Fuel_Price': nan, 'CPI': 212.5604113, 'Unemployment': 6.768, 'Day': 12.0, 'Month': 11.0, 'Year': 2010.0}\n",
      "{'Store': 14.0, 'Weekly_Sales': 2600519.26, 'Holiday_Flag': 0.0, 'Temperature': 30.54, 'Fuel_Price': 3.109, 'CPI': nan, 'Unemployment': nan, 'Day': 10.0, 'Month': 12.0, 'Year': 2010.0}\n",
      "{'Store': 13.0, 'Weekly_Sales': 1997397.63, 'Holiday_Flag': 0.0, 'Temperature': 76.34, 'Fuel_Price': 2.85, 'CPI': nan, 'Unemployment': 7.951, 'Day': 20.0, 'Month': 8.0, 'Year': 2010.0}\n",
      "{'Store': 3.0, 'Weekly_Sales': 367438.62, 'Holiday_Flag': 0.0, 'Temperature': 51.86, 'Fuel_Price': 3.261, 'CPI': nan, 'Unemployment': 6.832999999999998, 'Day': 13.0, 'Month': 1.0, 'Year': 2012.0}\n",
      "{'Store': 18.0, 'Weekly_Sales': 1588430.71, 'Holiday_Flag': 0.0, 'Temperature': 27.4, 'Fuel_Price': 3.139, 'CPI': nan, 'Unemployment': 9.331, 'Day': 17.0, 'Month': 12.0, 'Year': 2010.0}\n",
      "{'Store': 17.0, 'Weekly_Sales': 1046782.52, 'Holiday_Flag': 0.0, 'Temperature': 68.91, 'Fuel_Price': 3.63, 'CPI': nan, 'Unemployment': 5.936, 'Day': nan, 'Month': nan, 'Year': nan}\n",
      "{'Store': 3.0, 'Weekly_Sales': 403342.4, 'Holiday_Flag': 0.0, 'Temperature': 75.54, 'Fuel_Price': 3.285, 'CPI': nan, 'Unemployment': 7.197, 'Day': 7.0, 'Month': 10.0, 'Year': 2011.0}\n",
      "{'Store': 7.0, 'Weekly_Sales': 716388.81, 'Holiday_Flag': nan, 'Temperature': 20.74, 'Fuel_Price': 2.778, 'CPI': nan, 'Unemployment': nan, 'Day': nan, 'Month': nan, 'Year': nan}\n",
      "{'Store': 12.0, 'Weekly_Sales': 1021154.48, 'Holiday_Flag': 0.0, 'Temperature': 68.4, 'Fuel_Price': 4.1930000000000005, 'CPI': 129.04443329999998, 'Unemployment': 13.736, 'Day': 6.0, 'Month': 5.0, 'Year': 2011.0}\n",
      "{'Store': 2.0, 'Weekly_Sales': 1853161.99, 'Holiday_Flag': 0.0, 'Temperature': 87.7, 'Fuel_Price': 3.48, 'CPI': 214.9296249, 'Unemployment': nan, 'Day': nan, 'Month': nan, 'Year': nan}\n",
      "{'Store': 9.0, 'Weekly_Sales': 509263.28, 'Holiday_Flag': 0.0, 'Temperature': 85.02, 'Fuel_Price': 2.653, 'CPI': 214.8965756, 'Unemployment': nan, 'Day': 25.0, 'Month': 6.0, 'Year': 2010.0}\n",
      "{'Store': 12.0, 'Weekly_Sales': 1295605.35, 'Holiday_Flag': 0.0, 'Temperature': 52.77, 'Fuel_Price': 3.236, 'CPI': 126.8794839, 'Unemployment': 14.313, 'Day': 17.0, 'Month': 12.0, 'Year': 2010.0}\n",
      "{'Store': 12.0, 'Weekly_Sales': 955913.68, 'Holiday_Flag': 0.0, 'Temperature': 91.04, 'Fuel_Price': 3.701, 'CPI': 129.2015806, 'Unemployment': 13.503, 'Day': 12.0, 'Month': 8.0, 'Year': 2011.0}\n",
      "{'Store': 1.0, 'Weekly_Sales': 1508068.77, 'Holiday_Flag': 0.0, 'Temperature': 67.97, 'Fuel_Price': 3.594, 'CPI': 223.4257233, 'Unemployment': nan, 'Day': 19.0, 'Month': 10.0, 'Year': 2012.0}\n",
      "{'Store': 18.0, 'Weekly_Sales': 1256282.79, 'Holiday_Flag': 0.0, 'Temperature': 69.12, 'Fuel_Price': 2.906, 'CPI': 132.2939355, 'Unemployment': nan, 'Day': 28.0, 'Month': 5.0, 'Year': 2010.0}\n",
      "{'Store': 2.0, 'Weekly_Sales': 2124451.54, 'Holiday_Flag': 0.0, 'Temperature': 39.69, 'Fuel_Price': 2.514, 'CPI': 210.9451605, 'Unemployment': nan, 'Day': 19.0, 'Month': 2.0, 'Year': 2010.0}\n",
      "{'Store': 14.0, 'Weekly_Sales': 1864746.1, 'Holiday_Flag': 0.0, 'Temperature': 34.32, 'Fuel_Price': 3.193, 'CPI': 182.5983058, 'Unemployment': nan, 'Day': 7.0, 'Month': 1.0, 'Year': 2011.0}\n",
      "{'Store': 12.0, 'Weekly_Sales': 903119.03, 'Holiday_Flag': 1.0, 'Temperature': 83.63, 'Fuel_Price': 3.044, 'CPI': 126.11458059999998, 'Unemployment': 14.18, 'Day': 10.0, 'Month': 9.0, 'Year': 2010.0}\n",
      "{'Store': 17.0, 'Weekly_Sales': 845252.21, 'Holiday_Flag': 0.0, 'Temperature': 57.14, 'Fuel_Price': 2.841, 'CPI': 126.1119032, 'Unemployment': nan, 'Day': 11.0, 'Month': 6.0, 'Year': 2010.0}\n",
      "{'Store': 8.0, 'Weekly_Sales': 856796.1, 'Holiday_Flag': 0.0, 'Temperature': 86.05, 'Fuel_Price': 3.638, 'CPI': 219.0075249, 'Unemployment': nan, 'Day': 12.0, 'Month': 8.0, 'Year': 2011.0}\n"
     ]
    }
   ],
   "source": [
    "#droping outliers that don't fall within the range : [Xˉ−3σ,Xˉ+3σ].\n",
    "#This concerns the columns : Temperature, Fuel_price, CPI and Unemployment \n",
    "\n",
    "outliers = []\n",
    "\n",
    "for i in ['Temperature', 'Fuel_Price', 'CPI', 'Unemployment']:\n",
    "    print(f\"Identifying outliers in {i}...\")\n",
    "\n",
    "    to_keep = (walmart_df[i] < walmart_df[i].mean() + 3 * walmart_df[i].std()) \\\n",
    "        & (walmart_df[i] > walmart_df[i].mean() - 3 * walmart_df[i].std())\n",
    "\n",
    "    outliers.extend(walmart_df.loc[~to_keep, :].to_dict('records'))\n",
    "\n",
    "    walmart_df = walmart_df.loc[to_keep, :]\n",
    "\n",
    "    print('...Done')\n",
    "    print('Number of rows :{}'.format(walmart_df.shape[0]))\n",
    "\n",
    "print(\"Outliers identified:\")\n",
    "display(len(outliers))\n",
    "for outlier in outliers:\n",
    "    print(outlier)\n",
    "\n"
   ]
  },
  {
   "cell_type": "code",
   "execution_count": 135,
   "metadata": {},
   "outputs": [
    {
     "name": "stdout",
     "output_type": "stream",
     "text": [
      "Separating labels from features...\n",
      "...Done.\n",
      "0    1572117.54\n",
      "1    1807545.43\n",
      "4    1644470.66\n",
      "6     695396.19\n",
      "7    2203523.20\n",
      "Name: Weekly_Sales, dtype: float64\n",
      "\n",
      "   Store  Holiday_Flag  Temperature  Fuel_Price         CPI  Unemployment  \\\n",
      "0    6.0           NaN        59.61       3.045  214.777523         6.858   \n",
      "1   13.0           0.0        42.38       3.435  128.616064         7.470   \n",
      "4    6.0           0.0        78.89       2.759  212.412888         7.092   \n",
      "6   15.0           0.0        69.80       4.069  134.855161         7.658   \n",
      "7   20.0           0.0        39.93       3.617  213.023622         6.961   \n",
      "\n",
      "    Day  Month    Year  \n",
      "0  18.0    2.0  2011.0  \n",
      "1  25.0    3.0  2011.0  \n",
      "4  28.0    5.0  2010.0  \n",
      "6   3.0    6.0  2011.0  \n",
      "7   3.0    2.0  2012.0  \n",
      "\n"
     ]
    }
   ],
   "source": [
    "#Target variable/target (Y) that we will try to predict, to separate from the others : Weekly_Sales\n",
    "\n",
    "#Preprocessings to be planned with scikit-learn:\n",
    "    \n",
    "    #Explanatory variables (X) We need to identify which columns contain categorical variables \n",
    "    #and which columns contain numerical variables, as they will be treated differently.\n",
    "    \n",
    "    #Categorical variables : Store, Holiday_Flag\n",
    "    #Numerical variables : Temperature, Fuel_Price, CPI, Unemployment, Year, Month, Day, DayOfWeek\n",
    "\n",
    "target_name = \"Weekly_Sales\"\n",
    "\n",
    "print(\"Separating labels from features...\")\n",
    "Y = walmart_df.loc[:, target_name]\n",
    "X = walmart_df.drop(target_name, axis=1)\n",
    "print(\"...Done.\")\n",
    "print(Y.head())\n",
    "print()\n",
    "print(X.head())\n",
    "print()\n"
   ]
  },
  {
   "cell_type": "code",
   "execution_count": 136,
   "metadata": {},
   "outputs": [
    {
     "name": "stdout",
     "output_type": "stream",
     "text": [
      "Dividing into train and test sets...\n",
      "...Done.\n",
      "\n"
     ]
    }
   ],
   "source": [
    "print(\"Dividing into train and test sets...\")\n",
    "X_train, X_test, Y_train, Y_test = train_test_split(X, Y, test_size=0.2, random_state=0)\n",
    "print(\"...Done.\")\n",
    "print()"
   ]
  },
  {
   "cell_type": "code",
   "execution_count": 137,
   "metadata": {},
   "outputs": [
    {
     "name": "stdout",
     "output_type": "stream",
     "text": [
      "Percentage of missing values:\n"
     ]
    },
    {
     "data": {
      "text/plain": [
       "Store            0.000000\n",
       "Weekly_Sales     0.000000\n",
       "Holiday_Flag    11.111111\n",
       "Temperature      0.000000\n",
       "Fuel_Price       0.000000\n",
       "CPI              0.000000\n",
       "Unemployment     0.000000\n",
       "Day             11.111111\n",
       "Month           11.111111\n",
       "Year            11.111111\n",
       "dtype: float64"
      ]
     },
     "metadata": {},
     "output_type": "display_data"
    },
    {
     "data": {
      "text/plain": [
       "None"
      ]
     },
     "metadata": {},
     "output_type": "display_data"
    }
   ],
   "source": [
    "print('Percentage of missing values:')\n",
    "display(display(100 * walmart_df.isnull().sum() / walmart_df.shape[0]))"
   ]
  },
  {
   "cell_type": "code",
   "execution_count": 138,
   "metadata": {},
   "outputs": [],
   "source": [
    "numeric_features = ['Temperature', 'Fuel_Price', 'CPI', 'Unemployment', 'Year', 'Month', 'Day']\n",
    "numeric_transformer = Pipeline(steps=[\n",
    "    (\"imputer\",SimpleImputer(strategy=\"median\")),\n",
    "    (\"scaler\", StandardScaler()),\n",
    "])\n",
    "\n",
    "categorical_features = ['Store', 'Holiday_Flag']\n",
    "categorical_transformer = Pipeline(steps=[\n",
    "        (\"imputer\",SimpleImputer(strategy=\"most_frequent\")),  # missing values will be replaced by most frequent value\n",
    "        (\"encoder\",OneHotEncoder(drop=\"first\"))\n",
    "])\n",
    "\n",
    "preprocessor = ColumnTransformer(\n",
    "    transformers=[\n",
    "        ('num', numeric_transformer, numeric_features),\n",
    "        ('cat', categorical_transformer, categorical_features)\n",
    "    ])"
   ]
  },
  {
   "cell_type": "code",
   "execution_count": 139,
   "metadata": {},
   "outputs": [
    {
     "name": "stdout",
     "output_type": "stream",
     "text": [
      "Performing preprocessings on train set...\n",
      "     Store  Holiday_Flag  Temperature  Fuel_Price         CPI  Unemployment  \\\n",
      "127   16.0           0.0        61.79       2.711  189.523128         6.868   \n",
      "63     5.0           0.0        69.17       3.594  224.019287         5.422   \n",
      "35    19.0           0.0        33.26       3.789  133.958742         7.771   \n",
      "10     8.0           0.0        82.92       3.554  219.070197         6.425   \n",
      "95     1.0           0.0        74.78       2.854  210.337426         7.808   \n",
      "\n",
      "      Day  Month    Year  \n",
      "127   9.0    7.0  2010.0  \n",
      "63   19.0   10.0  2012.0  \n",
      "35   25.0    3.0  2011.0  \n",
      "10   19.0    8.0  2011.0  \n",
      "95   14.0    5.0  2010.0  \n",
      "...Done.\n",
      "[[ 0.04260362 -1.26840641  0.20507788 -0.55534542 -1.1763434   0.147002\n",
      "  -0.86859506  0.          0.          0.          0.          0.\n",
      "   0.          0.          0.          0.          0.          0.\n",
      "   0.          0.          1.          0.          0.          0.\n",
      "   0.          0.        ]\n",
      " [ 0.4592769   0.58058829  1.09260385 -2.12734441  1.47042924  1.17127401\n",
      "   0.42352982  0.          0.          0.          1.          0.\n",
      "   0.          0.          0.          0.          0.          0.\n",
      "   0.          0.          0.          0.          0.          0.\n",
      "   0.          0.        ]\n",
      " [-1.5681943   0.98891668 -1.22449677  0.42633859  0.14704292 -1.21869401\n",
      "   1.19880476  0.          0.          0.          0.          0.\n",
      "   0.          0.          0.          0.          0.          0.\n",
      "   0.          0.          0.          0.          0.          1.\n",
      "   0.          0.        ]\n",
      " [ 1.23559907  0.49682862  0.96527239 -1.03694678  0.14704292  0.488426\n",
      "   0.42352982  0.          0.          0.          0.          0.\n",
      "   0.          1.          0.          0.          0.          0.\n",
      "   0.          0.          0.          0.          0.          0.\n",
      "   0.          0.        ]\n",
      " [ 0.77601634 -0.96896559  0.74059345  0.46656263 -1.1763434  -0.535846\n",
      "  -0.22253262  0.          0.          0.          0.          0.\n",
      "   0.          0.          0.          0.          0.          0.\n",
      "   0.          0.          0.          0.          0.          0.\n",
      "   0.          0.        ]]\n",
      "\n",
      "Performing preprocessings on test set...\n",
      "     Store  Holiday_Flag  Temperature  Fuel_Price         CPI  Unemployment  \\\n",
      "4      6.0           0.0        78.89       2.759  212.412888         7.092   \n",
      "20     7.0           0.0        38.26       2.725  189.704822         8.963   \n",
      "82    11.0           0.0        52.77       3.510  223.917015         6.833   \n",
      "61    10.0           0.0        57.62       3.882  130.645793         7.545   \n",
      "104    3.0           0.0        82.70       3.346  225.306861         6.664   \n",
      "\n",
      "      Day  Month    Year  \n",
      "4    28.0    5.0  2010.0  \n",
      "20    2.0    4.0  2010.0  \n",
      "82    NaN    NaN     NaN  \n",
      "61    2.0    3.0  2012.0  \n",
      "104  22.0    6.0  2012.0  \n",
      "...Done.\n",
      "[[ 1.0080661  -1.16789481  0.79399146 -0.31182691 -1.1763434  -0.535846\n",
      "   1.58644222  0.          0.          0.          0.          1.\n",
      "   0.          0.          0.          0.          0.          0.\n",
      "   0.          0.          0.          0.          0.          0.\n",
      "   0.          0.        ]\n",
      " [-1.28589533 -1.23909053  0.20975255  1.72220498 -1.1763434  -0.87727001\n",
      "  -1.77308248  0.          0.          0.          0.          0.\n",
      "   1.          0.          0.          0.          0.          0.\n",
      "   0.          0.          0.          0.          0.          0.\n",
      "   0.          0.        ]\n",
      " [-0.46666372  0.40469299  1.08997257 -0.59339519  0.14704292  0.147002\n",
      "   0.03589236  0.          0.          0.          0.          0.\n",
      "   0.          0.          0.          0.          1.          0.\n",
      "   0.          0.          0.          0.          0.          0.\n",
      "   0.          0.        ]\n",
      " [-0.19283372  1.18365791 -1.30973316  0.1806458   1.47042924 -1.21869401\n",
      "  -1.77308248  0.          0.          0.          0.          0.\n",
      "   0.          0.          0.          1.          0.          0.\n",
      "   0.          0.          0.          0.          0.          0.\n",
      "   0.          0.        ]\n",
      " [ 1.22317791  0.06127834  1.12573089 -0.77712122  1.47042924 -0.194422\n",
      "   0.81116729  0.          1.          0.          0.          0.\n",
      "   0.          0.          0.          0.          0.          0.\n",
      "   0.          0.          0.          0.          0.          0.\n",
      "   0.          0.        ]]\n",
      "\n"
     ]
    }
   ],
   "source": [
    "print(\"Performing preprocessings on train set...\")\n",
    "print(X_train.head())\n",
    "X_train = preprocessor.fit_transform(X_train)\n",
    "print(\"...Done.\")\n",
    "print(X_train[0:5])\n",
    "print()\n",
    "\n",
    "print(\"Performing preprocessings on test set...\")\n",
    "print(X_test.head())\n",
    "X_test = preprocessor.transform(X_test)\n",
    "print(\"...Done.\")\n",
    "print(X_test[0:5, :])\n",
    "print()"
   ]
  },
  {
   "cell_type": "code",
   "execution_count": 140,
   "metadata": {},
   "outputs": [
    {
     "name": "stdout",
     "output_type": "stream",
     "text": [
      "Train model...\n",
      "...Done.\n"
     ]
    }
   ],
   "source": [
    "print(\"Train model...\")\n",
    "regressor = LinearRegression()\n",
    "regressor.fit(X_train, Y_train)\n",
    "print(\"...Done.\")"
   ]
  },
  {
   "cell_type": "code",
   "execution_count": 141,
   "metadata": {},
   "outputs": [
    {
     "name": "stdout",
     "output_type": "stream",
     "text": [
      "Predictions on training set...\n",
      "...Done.\n",
      "[ 611364.67099396  370577.26212486 1275740.37137493  879179.76718068\n",
      " 1536772.70829879 1514868.79536837 1965323.8723865   602145.54012832\n",
      "  948687.87405245 1089144.04045663 2125262.41163193  650336.60787243\n",
      " 2145312.0623884   610712.16639662  517258.85415893  778674.43751482\n",
      "  621000.71199925 1637887.71082182  166083.77933535  532890.97130511\n",
      " 1846150.02967254 2113342.41663075 1117874.96097089 1449549.93545644\n",
      " 2064847.33029364 1946434.88789985  420203.37186409 2018205.31305822\n",
      "  911972.28740893 1619671.09250448 2039633.27775499 1566247.21290487\n",
      " 1544871.47814237 1918280.17346583  329688.5413809   513754.34016273\n",
      "  930146.16563808 1520404.73250487 2020147.89985993 2062163.07944381\n",
      "  523043.15752523 1942173.83959015 1592843.57093179  425386.35441876\n",
      "  245875.50172863  503128.68941671  438285.84900605 1792986.20265494\n",
      " 1965095.38313835  420314.62383058 2068359.18918786 1881633.53078707\n",
      "  798003.7668471  1545014.05935314  471641.00853216  408800.48681116\n",
      " 1781390.09781152  438764.93753052  875552.60135793 2261810.38530984\n",
      " 1776982.38420668 1151132.00627462 1757242.50999999 1948838.15065857\n",
      "  627268.75250251 1779574.94460323 1578072.09167439  431759.65097515\n",
      " 1341291.98066377 1056420.99229786 2156895.51998011 1791020.67758525]\n",
      "\n",
      "Predictions on test set...\n",
      "...Done.\n",
      "[1569238.89010087  687168.56801076 1896822.31339262 1788054.17144371\n",
      "  393226.322252    222617.46706409 1220860.04363255 2170262.17112501\n",
      " 2002295.45281567 1330643.08210481 1180897.01628345  972430.54826311\n",
      "  438299.48822375  352427.85268941  532613.94359759 1356749.96165428\n",
      " 2016167.58086591  419838.00337229]\n",
      "\n"
     ]
    }
   ],
   "source": [
    "print(\"Predictions on training set...\")\n",
    "Y_train_pred = regressor.predict(X_train)\n",
    "print(\"...Done.\")\n",
    "print(Y_train_pred)\n",
    "print()\n",
    "\n",
    "print(\"Predictions on test set...\")\n",
    "Y_test_pred = regressor.predict(X_test)\n",
    "print(\"...Done.\")\n",
    "print(Y_test_pred)\n",
    "print()"
   ]
  },
  {
   "cell_type": "markdown",
   "metadata": {},
   "source": [
    "Part 2 : Baseline model (linear regression)\n",
    "\n",
    "Once you've trained a first model, don't forget to assess its performances on the train and test sets. Are you satisfied with the results ? Besides, it would be interesting to analyze the values of the model's coefficients to know what features are important for the prediction. To do so, the .coef_ attribute of scikit-learn's LinearRegression class might be useful. Please refer to the following link for more information 😉 https://scikit-learn.org/stable/modules/generated/sklearn.linear_model.LinearRegression.html"
   ]
  },
  {
   "cell_type": "code",
   "execution_count": 142,
   "metadata": {},
   "outputs": [
    {
     "name": "stdout",
     "output_type": "stream",
     "text": [
      "R2 score on training set :  0.9868321417045137\n",
      "R2 score on test set :  0.9352216314000099\n"
     ]
    }
   ],
   "source": [
    "#etant donné les valeurs des résultats - très proches de 1 - on peut suspecter un over fiting \n",
    "\n",
    "print(\"R2 score on training set : \", r2_score(Y_train, Y_train_pred))\n",
    "print(\"R2 score on test set : \", r2_score(Y_test, Y_test_pred))"
   ]
  },
  {
   "cell_type": "code",
   "execution_count": 143,
   "metadata": {},
   "outputs": [
    {
     "data": {
      "text/html": [
       "<div>\n",
       "<style scoped>\n",
       "    .dataframe tbody tr th:only-of-type {\n",
       "        vertical-align: middle;\n",
       "    }\n",
       "\n",
       "    .dataframe tbody tr th {\n",
       "        vertical-align: top;\n",
       "    }\n",
       "\n",
       "    .dataframe thead th {\n",
       "        text-align: right;\n",
       "    }\n",
       "</style>\n",
       "<table border=\"1\" class=\"dataframe\">\n",
       "  <thead>\n",
       "    <tr style=\"text-align: right;\">\n",
       "      <th></th>\n",
       "      <th>coefficients</th>\n",
       "    </tr>\n",
       "  </thead>\n",
       "  <tbody>\n",
       "    <tr>\n",
       "      <th>x0_4.0</th>\n",
       "      <td>2.204173e+06</td>\n",
       "    </tr>\n",
       "    <tr>\n",
       "      <th>x0_13.0</th>\n",
       "      <td>2.066814e+06</td>\n",
       "    </tr>\n",
       "    <tr>\n",
       "      <th>x0_10.0</th>\n",
       "      <td>1.798457e+06</td>\n",
       "    </tr>\n",
       "    <tr>\n",
       "      <th>x0_19.0</th>\n",
       "      <td>1.328211e+06</td>\n",
       "    </tr>\n",
       "    <tr>\n",
       "      <th>x0_3.0</th>\n",
       "      <td>1.250987e+06</td>\n",
       "    </tr>\n",
       "    <tr>\n",
       "      <th>x0_5.0</th>\n",
       "      <td>1.227433e+06</td>\n",
       "    </tr>\n",
       "    <tr>\n",
       "      <th>x0_9.0</th>\n",
       "      <td>1.102517e+06</td>\n",
       "    </tr>\n",
       "    <tr>\n",
       "      <th>x0_14.0</th>\n",
       "      <td>1.017347e+06</td>\n",
       "    </tr>\n",
       "    <tr>\n",
       "      <th>x0_18.0</th>\n",
       "      <td>9.874644e+05</td>\n",
       "    </tr>\n",
       "    <tr>\n",
       "      <th>x0_17.0</th>\n",
       "      <td>8.560567e+05</td>\n",
       "    </tr>\n",
       "    <tr>\n",
       "      <th>CPI</th>\n",
       "      <td>7.174699e+05</td>\n",
       "    </tr>\n",
       "    <tr>\n",
       "      <th>x0_8.0</th>\n",
       "      <td>6.561967e+05</td>\n",
       "    </tr>\n",
       "    <tr>\n",
       "      <th>x0_7.0</th>\n",
       "      <td>6.198300e+05</td>\n",
       "    </tr>\n",
       "    <tr>\n",
       "      <th>x0_20.0</th>\n",
       "      <td>5.924033e+05</td>\n",
       "    </tr>\n",
       "    <tr>\n",
       "      <th>x0_15.0</th>\n",
       "      <td>5.892577e+05</td>\n",
       "    </tr>\n",
       "    <tr>\n",
       "      <th>x0_16.0</th>\n",
       "      <td>5.775860e+05</td>\n",
       "    </tr>\n",
       "    <tr>\n",
       "      <th>x0_2.0</th>\n",
       "      <td>2.713384e+05</td>\n",
       "    </tr>\n",
       "    <tr>\n",
       "      <th>x0_11.0</th>\n",
       "      <td>2.193796e+05</td>\n",
       "    </tr>\n",
       "    <tr>\n",
       "      <th>x0_6.0</th>\n",
       "      <td>1.002725e+05</td>\n",
       "    </tr>\n",
       "    <tr>\n",
       "      <th>Fuel_Price</th>\n",
       "      <td>5.798483e+04</td>\n",
       "    </tr>\n",
       "    <tr>\n",
       "      <th>x1_1.0</th>\n",
       "      <td>5.353032e+04</td>\n",
       "    </tr>\n",
       "    <tr>\n",
       "      <th>Day</th>\n",
       "      <td>4.959265e+04</td>\n",
       "    </tr>\n",
       "    <tr>\n",
       "      <th>Unemployment</th>\n",
       "      <td>3.247850e+04</td>\n",
       "    </tr>\n",
       "    <tr>\n",
       "      <th>Month</th>\n",
       "      <td>1.724319e+04</td>\n",
       "    </tr>\n",
       "    <tr>\n",
       "      <th>Temperature</th>\n",
       "      <td>1.146270e+04</td>\n",
       "    </tr>\n",
       "    <tr>\n",
       "      <th>Year</th>\n",
       "      <td>6.895022e+03</td>\n",
       "    </tr>\n",
       "  </tbody>\n",
       "</table>\n",
       "</div>"
      ],
      "text/plain": [
       "              coefficients\n",
       "x0_4.0        2.204173e+06\n",
       "x0_13.0       2.066814e+06\n",
       "x0_10.0       1.798457e+06\n",
       "x0_19.0       1.328211e+06\n",
       "x0_3.0        1.250987e+06\n",
       "x0_5.0        1.227433e+06\n",
       "x0_9.0        1.102517e+06\n",
       "x0_14.0       1.017347e+06\n",
       "x0_18.0       9.874644e+05\n",
       "x0_17.0       8.560567e+05\n",
       "CPI           7.174699e+05\n",
       "x0_8.0        6.561967e+05\n",
       "x0_7.0        6.198300e+05\n",
       "x0_20.0       5.924033e+05\n",
       "x0_15.0       5.892577e+05\n",
       "x0_16.0       5.775860e+05\n",
       "x0_2.0        2.713384e+05\n",
       "x0_11.0       2.193796e+05\n",
       "x0_6.0        1.002725e+05\n",
       "Fuel_Price    5.798483e+04\n",
       "x1_1.0        5.353032e+04\n",
       "Day           4.959265e+04\n",
       "Unemployment  3.247850e+04\n",
       "Month         1.724319e+04\n",
       "Temperature   1.146270e+04\n",
       "Year          6.895022e+03"
      ]
     },
     "execution_count": 143,
     "metadata": {},
     "output_type": "execute_result"
    }
   ],
   "source": [
    "column_names = []\n",
    "for name, pipeline, features_list in preprocessor.transformers_:\n",
    "    if name == 'num':\n",
    "        features = features_list \n",
    "    else:\n",
    "        features = pipeline.named_steps['encoder'].get_feature_names_out()\n",
    "    column_names.extend(features)\n",
    "        \n",
    "\n",
    "coefs = pd.DataFrame(index = column_names, data = regressor.coef_.transpose(), columns=[\"coefficients\"])\n",
    "feature_importance = abs(coefs).sort_values(by = 'coefficients',ascending=False)\n",
    "feature_importance"
   ]
  },
  {
   "cell_type": "code",
   "execution_count": 144,
   "metadata": {},
   "outputs": [
    {
     "data": {
      "application/vnd.plotly.v1+json": {
       "config": {
        "plotlyServerURL": "https://plot.ly"
       },
       "data": [
        {
         "alignmentgroup": "True",
         "hovertemplate": "variable=coefficients<br>value=%{x}<br>index=%{y}<extra></extra>",
         "legendgroup": "coefficients",
         "marker": {
          "color": "#636efa",
          "pattern": {
           "shape": ""
          }
         },
         "name": "coefficients",
         "offsetgroup": "coefficients",
         "orientation": "h",
         "showlegend": true,
         "textposition": "auto",
         "type": "bar",
         "x": [
          2204172.844838164,
          2066813.6559609803,
          1798457.2750562842,
          1328210.7992843443,
          1250987.4934283872,
          1227432.8857967004,
          1102517.2537965754,
          1017347.4416717769,
          987464.4284796768,
          856056.6601424222,
          717469.9053980928,
          656196.7031248146,
          619830.0154162529,
          592403.2563552457,
          589257.732239522,
          577586.0443891338,
          271338.3558712195,
          219379.5954422151,
          100272.53734887185,
          57984.829414807624,
          53530.32293641492,
          49592.65139627557,
          32478.496808515047,
          17243.19450847747,
          11462.70403286641,
          6895.022487946092
         ],
         "xaxis": "x",
         "y": [
          "x0_4.0",
          "x0_13.0",
          "x0_10.0",
          "x0_19.0",
          "x0_3.0",
          "x0_5.0",
          "x0_9.0",
          "x0_14.0",
          "x0_18.0",
          "x0_17.0",
          "CPI",
          "x0_8.0",
          "x0_7.0",
          "x0_20.0",
          "x0_15.0",
          "x0_16.0",
          "x0_2.0",
          "x0_11.0",
          "x0_6.0",
          "Fuel_Price",
          "x1_1.0",
          "Day",
          "Unemployment",
          "Month",
          "Temperature",
          "Year"
         ],
         "yaxis": "y"
        }
       ],
       "layout": {
        "barmode": "relative",
        "legend": {
         "title": {
          "text": "variable"
         },
         "tracegroupgap": 0
        },
        "margin": {
         "l": 120,
         "t": 60
        },
        "showlegend": false,
        "template": {
         "data": {
          "bar": [
           {
            "error_x": {
             "color": "#2a3f5f"
            },
            "error_y": {
             "color": "#2a3f5f"
            },
            "marker": {
             "line": {
              "color": "#E5ECF6",
              "width": 0.5
             },
             "pattern": {
              "fillmode": "overlay",
              "size": 10,
              "solidity": 0.2
             }
            },
            "type": "bar"
           }
          ],
          "barpolar": [
           {
            "marker": {
             "line": {
              "color": "#E5ECF6",
              "width": 0.5
             },
             "pattern": {
              "fillmode": "overlay",
              "size": 10,
              "solidity": 0.2
             }
            },
            "type": "barpolar"
           }
          ],
          "carpet": [
           {
            "aaxis": {
             "endlinecolor": "#2a3f5f",
             "gridcolor": "white",
             "linecolor": "white",
             "minorgridcolor": "white",
             "startlinecolor": "#2a3f5f"
            },
            "baxis": {
             "endlinecolor": "#2a3f5f",
             "gridcolor": "white",
             "linecolor": "white",
             "minorgridcolor": "white",
             "startlinecolor": "#2a3f5f"
            },
            "type": "carpet"
           }
          ],
          "choropleth": [
           {
            "colorbar": {
             "outlinewidth": 0,
             "ticks": ""
            },
            "type": "choropleth"
           }
          ],
          "contour": [
           {
            "colorbar": {
             "outlinewidth": 0,
             "ticks": ""
            },
            "colorscale": [
             [
              0,
              "#0d0887"
             ],
             [
              0.1111111111111111,
              "#46039f"
             ],
             [
              0.2222222222222222,
              "#7201a8"
             ],
             [
              0.3333333333333333,
              "#9c179e"
             ],
             [
              0.4444444444444444,
              "#bd3786"
             ],
             [
              0.5555555555555556,
              "#d8576b"
             ],
             [
              0.6666666666666666,
              "#ed7953"
             ],
             [
              0.7777777777777778,
              "#fb9f3a"
             ],
             [
              0.8888888888888888,
              "#fdca26"
             ],
             [
              1,
              "#f0f921"
             ]
            ],
            "type": "contour"
           }
          ],
          "contourcarpet": [
           {
            "colorbar": {
             "outlinewidth": 0,
             "ticks": ""
            },
            "type": "contourcarpet"
           }
          ],
          "heatmap": [
           {
            "colorbar": {
             "outlinewidth": 0,
             "ticks": ""
            },
            "colorscale": [
             [
              0,
              "#0d0887"
             ],
             [
              0.1111111111111111,
              "#46039f"
             ],
             [
              0.2222222222222222,
              "#7201a8"
             ],
             [
              0.3333333333333333,
              "#9c179e"
             ],
             [
              0.4444444444444444,
              "#bd3786"
             ],
             [
              0.5555555555555556,
              "#d8576b"
             ],
             [
              0.6666666666666666,
              "#ed7953"
             ],
             [
              0.7777777777777778,
              "#fb9f3a"
             ],
             [
              0.8888888888888888,
              "#fdca26"
             ],
             [
              1,
              "#f0f921"
             ]
            ],
            "type": "heatmap"
           }
          ],
          "heatmapgl": [
           {
            "colorbar": {
             "outlinewidth": 0,
             "ticks": ""
            },
            "colorscale": [
             [
              0,
              "#0d0887"
             ],
             [
              0.1111111111111111,
              "#46039f"
             ],
             [
              0.2222222222222222,
              "#7201a8"
             ],
             [
              0.3333333333333333,
              "#9c179e"
             ],
             [
              0.4444444444444444,
              "#bd3786"
             ],
             [
              0.5555555555555556,
              "#d8576b"
             ],
             [
              0.6666666666666666,
              "#ed7953"
             ],
             [
              0.7777777777777778,
              "#fb9f3a"
             ],
             [
              0.8888888888888888,
              "#fdca26"
             ],
             [
              1,
              "#f0f921"
             ]
            ],
            "type": "heatmapgl"
           }
          ],
          "histogram": [
           {
            "marker": {
             "pattern": {
              "fillmode": "overlay",
              "size": 10,
              "solidity": 0.2
             }
            },
            "type": "histogram"
           }
          ],
          "histogram2d": [
           {
            "colorbar": {
             "outlinewidth": 0,
             "ticks": ""
            },
            "colorscale": [
             [
              0,
              "#0d0887"
             ],
             [
              0.1111111111111111,
              "#46039f"
             ],
             [
              0.2222222222222222,
              "#7201a8"
             ],
             [
              0.3333333333333333,
              "#9c179e"
             ],
             [
              0.4444444444444444,
              "#bd3786"
             ],
             [
              0.5555555555555556,
              "#d8576b"
             ],
             [
              0.6666666666666666,
              "#ed7953"
             ],
             [
              0.7777777777777778,
              "#fb9f3a"
             ],
             [
              0.8888888888888888,
              "#fdca26"
             ],
             [
              1,
              "#f0f921"
             ]
            ],
            "type": "histogram2d"
           }
          ],
          "histogram2dcontour": [
           {
            "colorbar": {
             "outlinewidth": 0,
             "ticks": ""
            },
            "colorscale": [
             [
              0,
              "#0d0887"
             ],
             [
              0.1111111111111111,
              "#46039f"
             ],
             [
              0.2222222222222222,
              "#7201a8"
             ],
             [
              0.3333333333333333,
              "#9c179e"
             ],
             [
              0.4444444444444444,
              "#bd3786"
             ],
             [
              0.5555555555555556,
              "#d8576b"
             ],
             [
              0.6666666666666666,
              "#ed7953"
             ],
             [
              0.7777777777777778,
              "#fb9f3a"
             ],
             [
              0.8888888888888888,
              "#fdca26"
             ],
             [
              1,
              "#f0f921"
             ]
            ],
            "type": "histogram2dcontour"
           }
          ],
          "mesh3d": [
           {
            "colorbar": {
             "outlinewidth": 0,
             "ticks": ""
            },
            "type": "mesh3d"
           }
          ],
          "parcoords": [
           {
            "line": {
             "colorbar": {
              "outlinewidth": 0,
              "ticks": ""
             }
            },
            "type": "parcoords"
           }
          ],
          "pie": [
           {
            "automargin": true,
            "type": "pie"
           }
          ],
          "scatter": [
           {
            "fillpattern": {
             "fillmode": "overlay",
             "size": 10,
             "solidity": 0.2
            },
            "type": "scatter"
           }
          ],
          "scatter3d": [
           {
            "line": {
             "colorbar": {
              "outlinewidth": 0,
              "ticks": ""
             }
            },
            "marker": {
             "colorbar": {
              "outlinewidth": 0,
              "ticks": ""
             }
            },
            "type": "scatter3d"
           }
          ],
          "scattercarpet": [
           {
            "marker": {
             "colorbar": {
              "outlinewidth": 0,
              "ticks": ""
             }
            },
            "type": "scattercarpet"
           }
          ],
          "scattergeo": [
           {
            "marker": {
             "colorbar": {
              "outlinewidth": 0,
              "ticks": ""
             }
            },
            "type": "scattergeo"
           }
          ],
          "scattergl": [
           {
            "marker": {
             "colorbar": {
              "outlinewidth": 0,
              "ticks": ""
             }
            },
            "type": "scattergl"
           }
          ],
          "scattermapbox": [
           {
            "marker": {
             "colorbar": {
              "outlinewidth": 0,
              "ticks": ""
             }
            },
            "type": "scattermapbox"
           }
          ],
          "scatterpolar": [
           {
            "marker": {
             "colorbar": {
              "outlinewidth": 0,
              "ticks": ""
             }
            },
            "type": "scatterpolar"
           }
          ],
          "scatterpolargl": [
           {
            "marker": {
             "colorbar": {
              "outlinewidth": 0,
              "ticks": ""
             }
            },
            "type": "scatterpolargl"
           }
          ],
          "scatterternary": [
           {
            "marker": {
             "colorbar": {
              "outlinewidth": 0,
              "ticks": ""
             }
            },
            "type": "scatterternary"
           }
          ],
          "surface": [
           {
            "colorbar": {
             "outlinewidth": 0,
             "ticks": ""
            },
            "colorscale": [
             [
              0,
              "#0d0887"
             ],
             [
              0.1111111111111111,
              "#46039f"
             ],
             [
              0.2222222222222222,
              "#7201a8"
             ],
             [
              0.3333333333333333,
              "#9c179e"
             ],
             [
              0.4444444444444444,
              "#bd3786"
             ],
             [
              0.5555555555555556,
              "#d8576b"
             ],
             [
              0.6666666666666666,
              "#ed7953"
             ],
             [
              0.7777777777777778,
              "#fb9f3a"
             ],
             [
              0.8888888888888888,
              "#fdca26"
             ],
             [
              1,
              "#f0f921"
             ]
            ],
            "type": "surface"
           }
          ],
          "table": [
           {
            "cells": {
             "fill": {
              "color": "#EBF0F8"
             },
             "line": {
              "color": "white"
             }
            },
            "header": {
             "fill": {
              "color": "#C8D4E3"
             },
             "line": {
              "color": "white"
             }
            },
            "type": "table"
           }
          ]
         },
         "layout": {
          "annotationdefaults": {
           "arrowcolor": "#2a3f5f",
           "arrowhead": 0,
           "arrowwidth": 1
          },
          "autotypenumbers": "strict",
          "coloraxis": {
           "colorbar": {
            "outlinewidth": 0,
            "ticks": ""
           }
          },
          "colorscale": {
           "diverging": [
            [
             0,
             "#8e0152"
            ],
            [
             0.1,
             "#c51b7d"
            ],
            [
             0.2,
             "#de77ae"
            ],
            [
             0.3,
             "#f1b6da"
            ],
            [
             0.4,
             "#fde0ef"
            ],
            [
             0.5,
             "#f7f7f7"
            ],
            [
             0.6,
             "#e6f5d0"
            ],
            [
             0.7,
             "#b8e186"
            ],
            [
             0.8,
             "#7fbc41"
            ],
            [
             0.9,
             "#4d9221"
            ],
            [
             1,
             "#276419"
            ]
           ],
           "sequential": [
            [
             0,
             "#0d0887"
            ],
            [
             0.1111111111111111,
             "#46039f"
            ],
            [
             0.2222222222222222,
             "#7201a8"
            ],
            [
             0.3333333333333333,
             "#9c179e"
            ],
            [
             0.4444444444444444,
             "#bd3786"
            ],
            [
             0.5555555555555556,
             "#d8576b"
            ],
            [
             0.6666666666666666,
             "#ed7953"
            ],
            [
             0.7777777777777778,
             "#fb9f3a"
            ],
            [
             0.8888888888888888,
             "#fdca26"
            ],
            [
             1,
             "#f0f921"
            ]
           ],
           "sequentialminus": [
            [
             0,
             "#0d0887"
            ],
            [
             0.1111111111111111,
             "#46039f"
            ],
            [
             0.2222222222222222,
             "#7201a8"
            ],
            [
             0.3333333333333333,
             "#9c179e"
            ],
            [
             0.4444444444444444,
             "#bd3786"
            ],
            [
             0.5555555555555556,
             "#d8576b"
            ],
            [
             0.6666666666666666,
             "#ed7953"
            ],
            [
             0.7777777777777778,
             "#fb9f3a"
            ],
            [
             0.8888888888888888,
             "#fdca26"
            ],
            [
             1,
             "#f0f921"
            ]
           ]
          },
          "colorway": [
           "#636efa",
           "#EF553B",
           "#00cc96",
           "#ab63fa",
           "#FFA15A",
           "#19d3f3",
           "#FF6692",
           "#B6E880",
           "#FF97FF",
           "#FECB52"
          ],
          "font": {
           "color": "#2a3f5f"
          },
          "geo": {
           "bgcolor": "white",
           "lakecolor": "white",
           "landcolor": "#E5ECF6",
           "showlakes": true,
           "showland": true,
           "subunitcolor": "white"
          },
          "hoverlabel": {
           "align": "left"
          },
          "hovermode": "closest",
          "mapbox": {
           "style": "light"
          },
          "paper_bgcolor": "white",
          "plot_bgcolor": "#E5ECF6",
          "polar": {
           "angularaxis": {
            "gridcolor": "white",
            "linecolor": "white",
            "ticks": ""
           },
           "bgcolor": "#E5ECF6",
           "radialaxis": {
            "gridcolor": "white",
            "linecolor": "white",
            "ticks": ""
           }
          },
          "scene": {
           "xaxis": {
            "backgroundcolor": "#E5ECF6",
            "gridcolor": "white",
            "gridwidth": 2,
            "linecolor": "white",
            "showbackground": true,
            "ticks": "",
            "zerolinecolor": "white"
           },
           "yaxis": {
            "backgroundcolor": "#E5ECF6",
            "gridcolor": "white",
            "gridwidth": 2,
            "linecolor": "white",
            "showbackground": true,
            "ticks": "",
            "zerolinecolor": "white"
           },
           "zaxis": {
            "backgroundcolor": "#E5ECF6",
            "gridcolor": "white",
            "gridwidth": 2,
            "linecolor": "white",
            "showbackground": true,
            "ticks": "",
            "zerolinecolor": "white"
           }
          },
          "shapedefaults": {
           "line": {
            "color": "#2a3f5f"
           }
          },
          "ternary": {
           "aaxis": {
            "gridcolor": "white",
            "linecolor": "white",
            "ticks": ""
           },
           "baxis": {
            "gridcolor": "white",
            "linecolor": "white",
            "ticks": ""
           },
           "bgcolor": "#E5ECF6",
           "caxis": {
            "gridcolor": "white",
            "linecolor": "white",
            "ticks": ""
           }
          },
          "title": {
           "x": 0.05
          },
          "xaxis": {
           "automargin": true,
           "gridcolor": "white",
           "linecolor": "white",
           "ticks": "",
           "title": {
            "standoff": 15
           },
           "zerolinecolor": "white",
           "zerolinewidth": 2
          },
          "yaxis": {
           "automargin": true,
           "gridcolor": "white",
           "linecolor": "white",
           "ticks": "",
           "title": {
            "standoff": 15
           },
           "zerolinecolor": "white",
           "zerolinewidth": 2
          }
         }
        },
        "xaxis": {
         "anchor": "y",
         "domain": [
          0,
          1
         ],
         "title": {
          "text": "value"
         }
        },
        "yaxis": {
         "anchor": "x",
         "domain": [
          0,
          1
         ],
         "title": {
          "text": "index"
         }
        }
       }
      }
     },
     "metadata": {},
     "output_type": "display_data"
    }
   ],
   "source": [
    "fig = px.bar(feature_importance, orientation = 'h')\n",
    "fig.update_layout(showlegend = False, \n",
    "                  margin = {'l': 120}# to avoid cropping of column names\n",
    "                 )\n",
    "fig.show()"
   ]
  },
  {
   "cell_type": "markdown",
   "metadata": {},
   "source": [
    "Part 3 : Fight overfitting\n",
    "\n",
    "In this last part, you'll have to train a regularized linear regression model. You'll find below some useful classes in scikit-learn's documentation :\n",
    "\n",
    "https://scikit-learn.org/stable/modules/generated/sklearn.linear_model.Ridge.html#sklearn.linear_model.Ridge\n",
    "https://scikit-learn.org/stable/modules/generated/sklearn.linear_model.Lasso.html#sklearn.linear_model.Lasso"
   ]
  },
  {
   "cell_type": "code",
   "execution_count": 145,
   "metadata": {},
   "outputs": [
    {
     "name": "stdout",
     "output_type": "stream",
     "text": [
      "Ridge()\n",
      "R2 score on training set :  0.9326481680110414\n",
      "R2 score on test set :  0.8246510243579797\n"
     ]
    }
   ],
   "source": [
    "ridge = Ridge()\n",
    "print(ridge)\n",
    "ridge.fit(X_train, Y_train)\n",
    "\n",
    "print(\"R2 score on training set : \", ridge.score(X_train, Y_train))\n",
    "print(\"R2 score on test set : \", ridge.score(X_test, Y_test))"
   ]
  },
  {
   "cell_type": "code",
   "execution_count": 146,
   "metadata": {},
   "outputs": [
    {
     "name": "stdout",
     "output_type": "stream",
     "text": [
      "Grid search - RIDGE...\n",
      "...Done.\n",
      "Best hyperparameters :  {'alpha': 2}\n",
      "Best R2 score :  0.7242359828312347\n",
      "R2 score on training set :  0.863761716662687\n",
      "R2 score on test set :  0.7214978628303186\n",
      "The cross-validated R2-score is :  0.7242359828312347\n",
      "The standard deviation is :  0.09297959777835434\n"
     ]
    }
   ],
   "source": [
    "#Réduction de l'overfiting / avec la variance du R2 on peut conclure que les résultats sont cohérents\n",
    "\n",
    "print(\"Grid search - RIDGE...\")\n",
    "regressor = Ridge()\n",
    "\n",
    "params = {\n",
    "    'alpha': [2,3,5] \n",
    "}\n",
    "gridsearch = GridSearchCV(regressor, param_grid = params, cv = 10) \n",
    "gridsearch.fit(X_train, Y_train)\n",
    "print(\"...Done.\")\n",
    "print(\"Best hyperparameters : \", gridsearch.best_params_)\n",
    "print(\"Best R2 score : \", gridsearch.best_score_)\n",
    "\n",
    "print(\"R2 score on training set : \", gridsearch.score(X_train, Y_train))\n",
    "print(\"R2 score on test set : \", gridsearch.score(X_test, Y_test))\n",
    "\n",
    "scores = cross_val_score(gridsearch.best_estimator_, X_train, Y_train, cv = 10)\n",
    "print('The cross-validated R2-score is : ', scores.mean())\n",
    "print('The standard deviation is : ', scores.std())"
   ]
  },
  {
   "cell_type": "code",
   "execution_count": 149,
   "metadata": {},
   "outputs": [
    {
     "name": "stdout",
     "output_type": "stream",
     "text": [
      "Lasso()\n",
      "R2 score on training set :  0.9864577742465312\n",
      "R2 score on test set :  0.939043642068452\n"
     ]
    },
    {
     "name": "stderr",
     "output_type": "stream",
     "text": [
      "/opt/anaconda3/lib/python3.12/site-packages/sklearn/linear_model/_coordinate_descent.py:678: ConvergenceWarning:\n",
      "\n",
      "Objective did not converge. You might want to increase the number of iterations, check the scale of the features or consider increasing regularisation. Duality gap: 2.033e+11, tolerance: 3.010e+09\n",
      "\n"
     ]
    }
   ],
   "source": [
    "lasso1 = Lasso()\n",
    "print(lasso1)\n",
    "lasso1.fit(X_train, Y_train)\n",
    "\n",
    "print(\"R2 score on training set : \", lasso1.score(X_train, Y_train))\n",
    "print(\"R2 score on test set : \", lasso1.score(X_test, Y_test))"
   ]
  },
  {
   "cell_type": "code",
   "execution_count": 147,
   "metadata": {},
   "outputs": [
    {
     "name": "stdout",
     "output_type": "stream",
     "text": [
      "Grid search - LASSO...\n",
      "...Done.\n",
      "Best hyperparameters :  {'alpha': 15000}\n",
      "Best R2 score :  0.6434168537146401\n",
      "R2 score on training set :  0.7970363974344489\n",
      "R2 score on test set :  0.614398827157794\n",
      "The cross-validated R2-score is :  0.6434168537146401\n",
      "The standard deviation is :  0.08893369952972789\n"
     ]
    }
   ],
   "source": [
    "print(\"Grid search - LASSO...\")\n",
    "regressor = Lasso()\n",
    "\n",
    "params = {\n",
    "    'alpha': [15000,16000,18000] \n",
    "}\n",
    "gridsearch = GridSearchCV(regressor, param_grid = params, cv = 10) \n",
    "gridsearch.fit(X_train, Y_train)\n",
    "print(\"...Done.\")\n",
    "print(\"Best hyperparameters : \", gridsearch.best_params_)\n",
    "print(\"Best R2 score : \", gridsearch.best_score_)\n",
    "\n",
    "print(\"R2 score on training set : \", gridsearch.score(X_train, Y_train))\n",
    "print(\"R2 score on test set : \", gridsearch.score(X_test, Y_test))\n",
    "\n",
    "scores = cross_val_score(gridsearch.best_estimator_, X_train, Y_train, cv = 10)\n",
    "print('The cross-validated R2-score is : ', scores.mean())\n",
    "print('The standard deviation is : ', scores.std())"
   ]
  },
  {
   "cell_type": "code",
   "execution_count": 148,
   "metadata": {},
   "outputs": [
    {
     "data": {
      "text/html": [
       "<div>\n",
       "<style scoped>\n",
       "    .dataframe tbody tr th:only-of-type {\n",
       "        vertical-align: middle;\n",
       "    }\n",
       "\n",
       "    .dataframe tbody tr th {\n",
       "        vertical-align: top;\n",
       "    }\n",
       "\n",
       "    .dataframe thead th {\n",
       "        text-align: right;\n",
       "    }\n",
       "</style>\n",
       "<table border=\"1\" class=\"dataframe\">\n",
       "  <thead>\n",
       "    <tr style=\"text-align: right;\">\n",
       "      <th></th>\n",
       "      <th>coefficients</th>\n",
       "    </tr>\n",
       "  </thead>\n",
       "  <tbody>\n",
       "    <tr>\n",
       "      <th>x0_4.0</th>\n",
       "      <td>758489.044441</td>\n",
       "    </tr>\n",
       "    <tr>\n",
       "      <th>x0_7.0</th>\n",
       "      <td>718952.176443</td>\n",
       "    </tr>\n",
       "    <tr>\n",
       "      <th>x0_13.0</th>\n",
       "      <td>632064.658206</td>\n",
       "    </tr>\n",
       "    <tr>\n",
       "      <th>x0_3.0</th>\n",
       "      <td>628180.777937</td>\n",
       "    </tr>\n",
       "    <tr>\n",
       "      <th>x0_5.0</th>\n",
       "      <td>478109.757257</td>\n",
       "    </tr>\n",
       "    <tr>\n",
       "      <th>x0_20.0</th>\n",
       "      <td>465782.548921</td>\n",
       "    </tr>\n",
       "    <tr>\n",
       "      <th>x0_15.0</th>\n",
       "      <td>402638.008131</td>\n",
       "    </tr>\n",
       "    <tr>\n",
       "      <th>x0_9.0</th>\n",
       "      <td>204227.032198</td>\n",
       "    </tr>\n",
       "    <tr>\n",
       "      <th>x0_14.0</th>\n",
       "      <td>199458.957807</td>\n",
       "    </tr>\n",
       "    <tr>\n",
       "      <th>x0_18.0</th>\n",
       "      <td>196149.879280</td>\n",
       "    </tr>\n",
       "    <tr>\n",
       "      <th>Unemployment</th>\n",
       "      <td>189554.112532</td>\n",
       "    </tr>\n",
       "    <tr>\n",
       "      <th>x0_2.0</th>\n",
       "      <td>177898.873377</td>\n",
       "    </tr>\n",
       "    <tr>\n",
       "      <th>x0_16.0</th>\n",
       "      <td>52373.845097</td>\n",
       "    </tr>\n",
       "    <tr>\n",
       "      <th>Year</th>\n",
       "      <td>30095.609262</td>\n",
       "    </tr>\n",
       "    <tr>\n",
       "      <th>Month</th>\n",
       "      <td>11566.218736</td>\n",
       "    </tr>\n",
       "    <tr>\n",
       "      <th>Fuel_Price</th>\n",
       "      <td>8223.310664</td>\n",
       "    </tr>\n",
       "    <tr>\n",
       "      <th>x0_6.0</th>\n",
       "      <td>6158.179635</td>\n",
       "    </tr>\n",
       "    <tr>\n",
       "      <th>x0_19.0</th>\n",
       "      <td>0.000000</td>\n",
       "    </tr>\n",
       "    <tr>\n",
       "      <th>x0_17.0</th>\n",
       "      <td>0.000000</td>\n",
       "    </tr>\n",
       "    <tr>\n",
       "      <th>Temperature</th>\n",
       "      <td>0.000000</td>\n",
       "    </tr>\n",
       "    <tr>\n",
       "      <th>x0_8.0</th>\n",
       "      <td>0.000000</td>\n",
       "    </tr>\n",
       "    <tr>\n",
       "      <th>x0_11.0</th>\n",
       "      <td>0.000000</td>\n",
       "    </tr>\n",
       "    <tr>\n",
       "      <th>x0_10.0</th>\n",
       "      <td>0.000000</td>\n",
       "    </tr>\n",
       "    <tr>\n",
       "      <th>Day</th>\n",
       "      <td>0.000000</td>\n",
       "    </tr>\n",
       "    <tr>\n",
       "      <th>CPI</th>\n",
       "      <td>0.000000</td>\n",
       "    </tr>\n",
       "    <tr>\n",
       "      <th>x1_1.0</th>\n",
       "      <td>0.000000</td>\n",
       "    </tr>\n",
       "  </tbody>\n",
       "</table>\n",
       "</div>"
      ],
      "text/plain": [
       "               coefficients\n",
       "x0_4.0        758489.044441\n",
       "x0_7.0        718952.176443\n",
       "x0_13.0       632064.658206\n",
       "x0_3.0        628180.777937\n",
       "x0_5.0        478109.757257\n",
       "x0_20.0       465782.548921\n",
       "x0_15.0       402638.008131\n",
       "x0_9.0        204227.032198\n",
       "x0_14.0       199458.957807\n",
       "x0_18.0       196149.879280\n",
       "Unemployment  189554.112532\n",
       "x0_2.0        177898.873377\n",
       "x0_16.0        52373.845097\n",
       "Year           30095.609262\n",
       "Month          11566.218736\n",
       "Fuel_Price      8223.310664\n",
       "x0_6.0          6158.179635\n",
       "x0_19.0            0.000000\n",
       "x0_17.0            0.000000\n",
       "Temperature        0.000000\n",
       "x0_8.0             0.000000\n",
       "x0_11.0            0.000000\n",
       "x0_10.0            0.000000\n",
       "Day                0.000000\n",
       "CPI                0.000000\n",
       "x1_1.0             0.000000"
      ]
     },
     "execution_count": 148,
     "metadata": {},
     "output_type": "execute_result"
    }
   ],
   "source": [
    "coefs = pd.DataFrame(index = column_names, data = gridsearch.best_estimator_.coef_.transpose(), columns=[\"coefficients\"])\n",
    "feature_importance = abs(coefs).sort_values(by = 'coefficients',ascending=False)\n",
    "feature_importance"
   ]
  }
 ],
 "metadata": {
  "kernelspec": {
   "display_name": "base",
   "language": "python",
   "name": "python3"
  },
  "language_info": {
   "codemirror_mode": {
    "name": "ipython",
    "version": 3
   },
   "file_extension": ".py",
   "mimetype": "text/x-python",
   "name": "python",
   "nbconvert_exporter": "python",
   "pygments_lexer": "ipython3",
   "version": "3.12.4"
  }
 },
 "nbformat": 4,
 "nbformat_minor": 2
}
